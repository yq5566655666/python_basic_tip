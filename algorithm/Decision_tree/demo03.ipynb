{
 "cells": [
  {
   "cell_type": "code",
   "execution_count": 1,
   "metadata": {},
   "outputs": [],
   "source": [
    "#决策树 线性二分类\n",
    "import matplotlib.pyplot as plt\n",
    "import numpy as np\n",
    "from sklearn.metrics import  classification_report\n",
    "from sklearn import tree\n",
    "\n"
   ]
  },
  {
   "cell_type": "code",
   "execution_count": 2,
   "metadata": {},
   "outputs": [
    {
     "data": {
      "image/png": "[encoded data removed]",
      "text/plain": [
       "<Figure size 432x288 with 1 Axes>"
      ]
     },
     "metadata": {
      "needs_background": "light"
     },
     "output_type": "display_data"
    }
   ],
   "source": [
    "#载入数据\n",
    "\n",
    "data = np.genfromtxt('LR-testSet.csv', delimiter= ',')\n",
    "x_data = data[:,:-1]\n",
    "y_data = data[:, -1]\n",
    "\n",
    "plt.scatter(x_data[:,0], x_data[:,1], c= y_data)\n",
    "plt.show()"
   ]
  },
  {
   "cell_type": "code",
   "execution_count": 3,
   "metadata": {},
   "outputs": [
    {
     "data": {
      "text/plain": [
       "DecisionTreeClassifier(ccp_alpha=0.0, class_weight=None, criterion='gini',\n",
       "                       max_depth=None, max_features=None, max_leaf_nodes=None,\n",
       "                       min_impurity_decrease=0.0, min_impurity_split=None,\n",
       "                       min_samples_leaf=1, min_samples_split=2,\n",
       "                       min_weight_fraction_leaf=0.0, presort='deprecated',\n",
       "                       random_state=None, splitter='best')"
      ]
     },
     "execution_count": 3,
     "metadata": {},
     "output_type": "execute_result"
    }
   ],
   "source": [
    "#创建决策树\n",
    "\n",
    "model = tree.DecisionTreeClassifier()\n",
    "model.fit(x_data,y_data)#决策树模型中没有transform\n"
   ]
  },
  {
   "cell_type": "code",
   "execution_count": 9,
   "metadata": {},
   "outputs": [],
   "source": [
    "import graphviz\n",
    "\n",
    "dot_data = tree.export_graphviz(model,\n",
    "                                            out_file = None,\n",
    "                                            feature_names = ['x','y'],\n",
    "                                            class_names = ['label1','label0'],\n",
    "                                            filled = True,\n",
    "                                            rounded = True,\n",
    "                                            special_characters = True)\n",
    "graph = graphviz.Source(dot_data)\n",
    "\n"
   ]
  },
  {
   "cell_type": "code",
   "execution_count": 10,
   "metadata": {},
   "outputs": [
    {
     "data": {
      "image/svg+xml": [
       "<?xml version=\"1.0\" encoding=\"UTF-8\" standalone=\"no\"?>\n",
       "<!DOCTYPE svg PUBLIC \"-//W3C//DTD SVG 1.1//EN\"\n",
       " \"http://www.w3.org/Graphics/SVG/1.1/DTD/svg11.dtd\">\n",
       "<!-- Generated by graphviz version 2.40.1 (20161225.0304)\n",
       " -->\n",
       "<!-- Title: Tree Pages: 1 -->\n",
       "<svg width=\"525pt\" height=\"642pt\"\n",
       " viewBox=\"0.00 0.00 525.22 642.00\" xmlns=\"http://www.w3.org/2000/svg\" xmlns:xlink=\"http://www.w3.org/1999/xlink\">\n",
       "<g id=\"graph0\" class=\"graph\" transform=\"scale(1 1) rotate(0) translate(4 638)\">\n",
       "<title>Tree</title>\n",
       "<polygon fill=\"#ffffff\" stroke=\"transparent\" points=\"-4,4 -4,-638 521.2168,-638 521.2168,4 -4,4\"/>\n",
       "<!-- 0 -->\n",
       "<g id=\"node1\" class=\"node\">\n",
       "<title>0</title>\n",
       "<path fill=\"#e9f4fc\" stroke=\"#000000\" d=\"M273.7354,-634C273.7354,-634 185.4814,-634 185.4814,-634 179.4814,-634 173.4814,-628 173.4814,-622 173.4814,-622 173.4814,-568 173.4814,-568 173.4814,-562 179.4814,-556 185.4814,-556 185.4814,-556 273.7354,-556 273.7354,-556 279.7354,-556 285.7354,-562 285.7354,-568 285.7354,-568 285.7354,-622 285.7354,-622 285.7354,-628 279.7354,-634 273.7354,-634\"/>\n",
       "<text text-anchor=\"start\" x=\"200.8599\" y=\"-618.8\" font-family=\"Helvetica,sans-Serif\" font-size=\"14.00\" fill=\"#000000\">y ≤ 8.562</text>\n",
       "<text text-anchor=\"start\" x=\"193.2173\" y=\"-604.8\" font-family=\"Helvetica,sans-Serif\" font-size=\"14.00\" fill=\"#000000\">gini = 0.498</text>\n",
       "<text text-anchor=\"start\" x=\"183.8862\" y=\"-590.8\" font-family=\"Helvetica,sans-Serif\" font-size=\"14.00\" fill=\"#000000\">samples = 100</text>\n",
       "<text text-anchor=\"start\" x=\"181.5449\" y=\"-576.8\" font-family=\"Helvetica,sans-Serif\" font-size=\"14.00\" fill=\"#000000\">value = [47, 53]</text>\n",
       "<text text-anchor=\"start\" x=\"187\" y=\"-562.8\" font-family=\"Helvetica,sans-Serif\" font-size=\"14.00\" fill=\"#000000\">class = label0</text>\n",
       "</g>\n",
       "<!-- 1 -->\n",
       "<g id=\"node2\" class=\"node\">\n",
       "<title>1</title>\n",
       "<path fill=\"#4ca6e7\" stroke=\"#000000\" d=\"M208.9498,-520C208.9498,-520 128.267,-520 128.267,-520 122.267,-520 116.267,-514 116.267,-508 116.267,-508 116.267,-454 116.267,-454 116.267,-448 122.267,-442 128.267,-442 128.267,-442 208.9498,-442 208.9498,-442 214.9498,-442 220.9498,-448 220.9498,-454 220.9498,-454 220.9498,-508 220.9498,-508 220.9498,-514 214.9498,-520 208.9498,-520\"/>\n",
       "<text text-anchor=\"start\" x=\"139.8599\" y=\"-504.8\" font-family=\"Helvetica,sans-Serif\" font-size=\"14.00\" fill=\"#000000\">y ≤ 5.992</text>\n",
       "<text text-anchor=\"start\" x=\"132.2173\" y=\"-490.8\" font-family=\"Helvetica,sans-Serif\" font-size=\"14.00\" fill=\"#000000\">gini = 0.158</text>\n",
       "<text text-anchor=\"start\" x=\"126.7793\" y=\"-476.8\" font-family=\"Helvetica,sans-Serif\" font-size=\"14.00\" fill=\"#000000\">samples = 58</text>\n",
       "<text text-anchor=\"start\" x=\"124.438\" y=\"-462.8\" font-family=\"Helvetica,sans-Serif\" font-size=\"14.00\" fill=\"#000000\">value = [5, 53]</text>\n",
       "<text text-anchor=\"start\" x=\"126\" y=\"-448.8\" font-family=\"Helvetica,sans-Serif\" font-size=\"14.00\" fill=\"#000000\">class = label0</text>\n",
       "</g>\n",
       "<!-- 0&#45;&gt;1 -->\n",
       "<g id=\"edge1\" class=\"edge\">\n",
       "<title>0&#45;&gt;1</title>\n",
       "<path fill=\"none\" stroke=\"#000000\" d=\"M208.6157,-555.7677C204.0628,-547.259 199.1958,-538.1634 194.48,-529.3502\"/>\n",
       "<polygon fill=\"#000000\" stroke=\"#000000\" points=\"197.4438,-527.4705 189.6398,-520.3046 191.2718,-530.773 197.4438,-527.4705\"/>\n",
       "<text text-anchor=\"middle\" x=\"182.3934\" y=\"-540.0314\" font-family=\"Helvetica,sans-Serif\" font-size=\"14.00\" fill=\"#000000\">True</text>\n",
       "</g>\n",
       "<!-- 12 -->\n",
       "<g id=\"node13\" class=\"node\">\n",
       "<title>12</title>\n",
       "<path fill=\"#e58139\" stroke=\"#000000\" d=\"M330.9498,-513C330.9498,-513 250.267,-513 250.267,-513 244.267,-513 238.267,-507 238.267,-501 238.267,-501 238.267,-461 238.267,-461 238.267,-455 244.267,-449 250.267,-449 250.267,-449 330.9498,-449 330.9498,-449 336.9498,-449 342.9498,-455 342.9498,-461 342.9498,-461 342.9498,-501 342.9498,-501 342.9498,-507 336.9498,-513 330.9498,-513\"/>\n",
       "<text text-anchor=\"start\" x=\"262.0034\" y=\"-497.8\" font-family=\"Helvetica,sans-Serif\" font-size=\"14.00\" fill=\"#000000\">gini = 0.0</text>\n",
       "<text text-anchor=\"start\" x=\"248.7793\" y=\"-483.8\" font-family=\"Helvetica,sans-Serif\" font-size=\"14.00\" fill=\"#000000\">samples = 42</text>\n",
       "<text text-anchor=\"start\" x=\"246.438\" y=\"-469.8\" font-family=\"Helvetica,sans-Serif\" font-size=\"14.00\" fill=\"#000000\">value = [42, 0]</text>\n",
       "<text text-anchor=\"start\" x=\"248\" y=\"-455.8\" font-family=\"Helvetica,sans-Serif\" font-size=\"14.00\" fill=\"#000000\">class = label1</text>\n",
       "</g>\n",
       "<!-- 0&#45;&gt;12 -->\n",
       "<g id=\"edge12\" class=\"edge\">\n",
       "<title>0&#45;&gt;12</title>\n",
       "<path fill=\"none\" stroke=\"#000000\" d=\"M250.6011,-555.7677C256.4168,-544.8991 262.7449,-533.0729 268.6158,-522.1009\"/>\n",
       "<polygon fill=\"#000000\" stroke=\"#000000\" points=\"271.7866,-523.5936 273.4186,-513.1252 265.6146,-520.291 271.7866,-523.5936\"/>\n",
       "<text text-anchor=\"middle\" x=\"280.665\" y=\"-532.852\" font-family=\"Helvetica,sans-Serif\" font-size=\"14.00\" fill=\"#000000\">False</text>\n",
       "</g>\n",
       "<!-- 2 -->\n",
       "<g id=\"node3\" class=\"node\">\n",
       "<title>2</title>\n",
       "<path fill=\"#399de5\" stroke=\"#000000\" d=\"M147.9498,-399C147.9498,-399 67.267,-399 67.267,-399 61.267,-399 55.267,-393 55.267,-387 55.267,-387 55.267,-347 55.267,-347 55.267,-341 61.267,-335 67.267,-335 67.267,-335 147.9498,-335 147.9498,-335 153.9498,-335 159.9498,-341 159.9498,-347 159.9498,-347 159.9498,-387 159.9498,-387 159.9498,-393 153.9498,-399 147.9498,-399\"/>\n",
       "<text text-anchor=\"start\" x=\"79.0034\" y=\"-383.8\" font-family=\"Helvetica,sans-Serif\" font-size=\"14.00\" fill=\"#000000\">gini = 0.0</text>\n",
       "<text text-anchor=\"start\" x=\"65.7793\" y=\"-369.8\" font-family=\"Helvetica,sans-Serif\" font-size=\"14.00\" fill=\"#000000\">samples = 43</text>\n",
       "<text text-anchor=\"start\" x=\"63.438\" y=\"-355.8\" font-family=\"Helvetica,sans-Serif\" font-size=\"14.00\" fill=\"#000000\">value = [0, 43]</text>\n",
       "<text text-anchor=\"start\" x=\"65\" y=\"-341.8\" font-family=\"Helvetica,sans-Serif\" font-size=\"14.00\" fill=\"#000000\">class = label0</text>\n",
       "</g>\n",
       "<!-- 1&#45;&gt;2 -->\n",
       "<g id=\"edge2\" class=\"edge\">\n",
       "<title>1&#45;&gt;2</title>\n",
       "<path fill=\"none\" stroke=\"#000000\" d=\"M147.6157,-441.7677C141.8,-430.8991 135.4719,-419.0729 129.601,-408.1009\"/>\n",
       "<polygon fill=\"#000000\" stroke=\"#000000\" points=\"132.6022,-406.291 124.7982,-399.1252 126.4302,-409.5936 132.6022,-406.291\"/>\n",
       "</g>\n",
       "<!-- 3 -->\n",
       "<g id=\"node4\" class=\"node\">\n",
       "<title>3</title>\n",
       "<path fill=\"#9ccef2\" stroke=\"#000000\" d=\"M269.9498,-406C269.9498,-406 189.267,-406 189.267,-406 183.267,-406 177.267,-400 177.267,-394 177.267,-394 177.267,-340 177.267,-340 177.267,-334 183.267,-328 189.267,-328 189.267,-328 269.9498,-328 269.9498,-328 275.9498,-328 281.9498,-334 281.9498,-340 281.9498,-340 281.9498,-394 281.9498,-394 281.9498,-400 275.9498,-406 269.9498,-406\"/>\n",
       "<text text-anchor=\"start\" x=\"199.0449\" y=\"-390.8\" font-family=\"Helvetica,sans-Serif\" font-size=\"14.00\" fill=\"#000000\">x ≤ &#45;0.211</text>\n",
       "<text text-anchor=\"start\" x=\"193.2173\" y=\"-376.8\" font-family=\"Helvetica,sans-Serif\" font-size=\"14.00\" fill=\"#000000\">gini = 0.444</text>\n",
       "<text text-anchor=\"start\" x=\"187.7793\" y=\"-362.8\" font-family=\"Helvetica,sans-Serif\" font-size=\"14.00\" fill=\"#000000\">samples = 15</text>\n",
       "<text text-anchor=\"start\" x=\"185.438\" y=\"-348.8\" font-family=\"Helvetica,sans-Serif\" font-size=\"14.00\" fill=\"#000000\">value = [5, 10]</text>\n",
       "<text text-anchor=\"start\" x=\"187\" y=\"-334.8\" font-family=\"Helvetica,sans-Serif\" font-size=\"14.00\" fill=\"#000000\">class = label0</text>\n",
       "</g>\n",
       "<!-- 1&#45;&gt;3 -->\n",
       "<g id=\"edge3\" class=\"edge\">\n",
       "<title>1&#45;&gt;3</title>\n",
       "<path fill=\"none\" stroke=\"#000000\" d=\"M189.6011,-441.7677C194.154,-433.259 199.021,-424.1634 203.7368,-415.3502\"/>\n",
       "<polygon fill=\"#000000\" stroke=\"#000000\" points=\"206.945,-416.773 208.577,-406.3046 200.773,-413.4705 206.945,-416.773\"/>\n",
       "</g>\n",
       "<!-- 4 -->\n",
       "<g id=\"node5\" class=\"node\">\n",
       "<title>4</title>\n",
       "<path fill=\"#eca06a\" stroke=\"#000000\" d=\"M208.3254,-292C208.3254,-292 130.8914,-292 130.8914,-292 124.8914,-292 118.8914,-286 118.8914,-280 118.8914,-280 118.8914,-226 118.8914,-226 118.8914,-220 124.8914,-214 130.8914,-214 130.8914,-214 208.3254,-214 208.3254,-214 214.3254,-214 220.3254,-220 220.3254,-226 220.3254,-226 220.3254,-280 220.3254,-280 220.3254,-286 214.3254,-292 208.3254,-292\"/>\n",
       "<text text-anchor=\"start\" x=\"138.5288\" y=\"-276.8\" font-family=\"Helvetica,sans-Serif\" font-size=\"14.00\" fill=\"#000000\">x ≤ &#45;1.985</text>\n",
       "<text text-anchor=\"start\" x=\"137.1104\" y=\"-262.8\" font-family=\"Helvetica,sans-Serif\" font-size=\"14.00\" fill=\"#000000\">gini = 0.32</text>\n",
       "<text text-anchor=\"start\" x=\"131.6724\" y=\"-248.8\" font-family=\"Helvetica,sans-Serif\" font-size=\"14.00\" fill=\"#000000\">samples = 5</text>\n",
       "<text text-anchor=\"start\" x=\"129.3311\" y=\"-234.8\" font-family=\"Helvetica,sans-Serif\" font-size=\"14.00\" fill=\"#000000\">value = [4, 1]</text>\n",
       "<text text-anchor=\"start\" x=\"127\" y=\"-220.8\" font-family=\"Helvetica,sans-Serif\" font-size=\"14.00\" fill=\"#000000\">class = label1</text>\n",
       "</g>\n",
       "<!-- 3&#45;&gt;4 -->\n",
       "<g id=\"edge4\" class=\"edge\">\n",
       "<title>3&#45;&gt;4</title>\n",
       "<path fill=\"none\" stroke=\"#000000\" d=\"M208.9598,-327.7677C204.4815,-319.259 199.6944,-310.1634 195.0559,-301.3502\"/>\n",
       "<polygon fill=\"#000000\" stroke=\"#000000\" points=\"198.0498,-299.5237 190.2951,-292.3046 191.8554,-302.784 198.0498,-299.5237\"/>\n",
       "</g>\n",
       "<!-- 7 -->\n",
       "<g id=\"node8\" class=\"node\">\n",
       "<title>7</title>\n",
       "<path fill=\"#4fa8e8\" stroke=\"#000000\" d=\"M327.3254,-292C327.3254,-292 249.8914,-292 249.8914,-292 243.8914,-292 237.8914,-286 237.8914,-280 237.8914,-280 237.8914,-226 237.8914,-226 237.8914,-220 243.8914,-214 249.8914,-214 249.8914,-214 327.3254,-214 327.3254,-214 333.3254,-214 339.3254,-220 339.3254,-226 339.3254,-226 339.3254,-280 339.3254,-280 339.3254,-286 333.3254,-292 327.3254,-292\"/>\n",
       "<text text-anchor=\"start\" x=\"263.7529\" y=\"-276.8\" font-family=\"Helvetica,sans-Serif\" font-size=\"14.00\" fill=\"#000000\">y ≤ 7.32</text>\n",
       "<text text-anchor=\"start\" x=\"256.1104\" y=\"-262.8\" font-family=\"Helvetica,sans-Serif\" font-size=\"14.00\" fill=\"#000000\">gini = 0.18</text>\n",
       "<text text-anchor=\"start\" x=\"246.7793\" y=\"-248.8\" font-family=\"Helvetica,sans-Serif\" font-size=\"14.00\" fill=\"#000000\">samples = 10</text>\n",
       "<text text-anchor=\"start\" x=\"248.3311\" y=\"-234.8\" font-family=\"Helvetica,sans-Serif\" font-size=\"14.00\" fill=\"#000000\">value = [1, 9]</text>\n",
       "<text text-anchor=\"start\" x=\"246\" y=\"-220.8\" font-family=\"Helvetica,sans-Serif\" font-size=\"14.00\" fill=\"#000000\">class = label0</text>\n",
       "</g>\n",
       "<!-- 3&#45;&gt;7 -->\n",
       "<g id=\"edge7\" class=\"edge\">\n",
       "<title>3&#45;&gt;7</title>\n",
       "<path fill=\"none\" stroke=\"#000000\" d=\"M249.9129,-327.7677C254.3165,-319.259 259.0239,-310.1634 263.5851,-301.3502\"/>\n",
       "<polygon fill=\"#000000\" stroke=\"#000000\" points=\"266.7785,-302.7945 268.2665,-292.3046 260.5617,-299.577 266.7785,-302.7945\"/>\n",
       "</g>\n",
       "<!-- 5 -->\n",
       "<g id=\"node6\" class=\"node\">\n",
       "<title>5</title>\n",
       "<path fill=\"#399de5\" stroke=\"#000000\" d=\"M89.3254,-171C89.3254,-171 11.8914,-171 11.8914,-171 5.8914,-171 -.1086,-165 -.1086,-159 -.1086,-159 -.1086,-119 -.1086,-119 -.1086,-113 5.8914,-107 11.8914,-107 11.8914,-107 89.3254,-107 89.3254,-107 95.3254,-107 101.3254,-113 101.3254,-119 101.3254,-119 101.3254,-159 101.3254,-159 101.3254,-165 95.3254,-171 89.3254,-171\"/>\n",
       "<text text-anchor=\"start\" x=\"22.0034\" y=\"-155.8\" font-family=\"Helvetica,sans-Serif\" font-size=\"14.00\" fill=\"#000000\">gini = 0.0</text>\n",
       "<text text-anchor=\"start\" x=\"12.6724\" y=\"-141.8\" font-family=\"Helvetica,sans-Serif\" font-size=\"14.00\" fill=\"#000000\">samples = 1</text>\n",
       "<text text-anchor=\"start\" x=\"10.3311\" y=\"-127.8\" font-family=\"Helvetica,sans-Serif\" font-size=\"14.00\" fill=\"#000000\">value = [0, 1]</text>\n",
       "<text text-anchor=\"start\" x=\"8\" y=\"-113.8\" font-family=\"Helvetica,sans-Serif\" font-size=\"14.00\" fill=\"#000000\">class = label0</text>\n",
       "</g>\n",
       "<!-- 4&#45;&gt;5 -->\n",
       "<g id=\"edge5\" class=\"edge\">\n",
       "<title>4&#45;&gt;5</title>\n",
       "<path fill=\"none\" stroke=\"#000000\" d=\"M128.6553,-213.7677C116.6293,-202.247 103.4802,-189.6503 91.4605,-178.1356\"/>\n",
       "<polygon fill=\"#000000\" stroke=\"#000000\" points=\"93.785,-175.5156 84.1426,-171.1252 88.9426,-180.5704 93.785,-175.5156\"/>\n",
       "</g>\n",
       "<!-- 6 -->\n",
       "<g id=\"node7\" class=\"node\">\n",
       "<title>6</title>\n",
       "<path fill=\"#e58139\" stroke=\"#000000\" d=\"M208.3254,-171C208.3254,-171 130.8914,-171 130.8914,-171 124.8914,-171 118.8914,-165 118.8914,-159 118.8914,-159 118.8914,-119 118.8914,-119 118.8914,-113 124.8914,-107 130.8914,-107 130.8914,-107 208.3254,-107 208.3254,-107 214.3254,-107 220.3254,-113 220.3254,-119 220.3254,-119 220.3254,-159 220.3254,-159 220.3254,-165 214.3254,-171 208.3254,-171\"/>\n",
       "<text text-anchor=\"start\" x=\"141.0034\" y=\"-155.8\" font-family=\"Helvetica,sans-Serif\" font-size=\"14.00\" fill=\"#000000\">gini = 0.0</text>\n",
       "<text text-anchor=\"start\" x=\"131.6724\" y=\"-141.8\" font-family=\"Helvetica,sans-Serif\" font-size=\"14.00\" fill=\"#000000\">samples = 4</text>\n",
       "<text text-anchor=\"start\" x=\"129.3311\" y=\"-127.8\" font-family=\"Helvetica,sans-Serif\" font-size=\"14.00\" fill=\"#000000\">value = [4, 0]</text>\n",
       "<text text-anchor=\"start\" x=\"127\" y=\"-113.8\" font-family=\"Helvetica,sans-Serif\" font-size=\"14.00\" fill=\"#000000\">class = label1</text>\n",
       "</g>\n",
       "<!-- 4&#45;&gt;6 -->\n",
       "<g id=\"edge6\" class=\"edge\">\n",
       "<title>4&#45;&gt;6</title>\n",
       "<path fill=\"none\" stroke=\"#000000\" d=\"M169.6084,-213.7677C169.6084,-203.3338 169.6084,-192.0174 169.6084,-181.4215\"/>\n",
       "<polygon fill=\"#000000\" stroke=\"#000000\" points=\"173.1085,-181.1252 169.6084,-171.1252 166.1085,-181.1252 173.1085,-181.1252\"/>\n",
       "</g>\n",
       "<!-- 8 -->\n",
       "<g id=\"node9\" class=\"node\">\n",
       "<title>8</title>\n",
       "<path fill=\"#399de5\" stroke=\"#000000\" d=\"M327.3254,-171C327.3254,-171 249.8914,-171 249.8914,-171 243.8914,-171 237.8914,-165 237.8914,-159 237.8914,-159 237.8914,-119 237.8914,-119 237.8914,-113 243.8914,-107 249.8914,-107 249.8914,-107 327.3254,-107 327.3254,-107 333.3254,-107 339.3254,-113 339.3254,-119 339.3254,-119 339.3254,-159 339.3254,-159 339.3254,-165 333.3254,-171 327.3254,-171\"/>\n",
       "<text text-anchor=\"start\" x=\"260.0034\" y=\"-155.8\" font-family=\"Helvetica,sans-Serif\" font-size=\"14.00\" fill=\"#000000\">gini = 0.0</text>\n",
       "<text text-anchor=\"start\" x=\"250.6724\" y=\"-141.8\" font-family=\"Helvetica,sans-Serif\" font-size=\"14.00\" fill=\"#000000\">samples = 6</text>\n",
       "<text text-anchor=\"start\" x=\"248.3311\" y=\"-127.8\" font-family=\"Helvetica,sans-Serif\" font-size=\"14.00\" fill=\"#000000\">value = [0, 6]</text>\n",
       "<text text-anchor=\"start\" x=\"246\" y=\"-113.8\" font-family=\"Helvetica,sans-Serif\" font-size=\"14.00\" fill=\"#000000\">class = label0</text>\n",
       "</g>\n",
       "<!-- 7&#45;&gt;8 -->\n",
       "<g id=\"edge8\" class=\"edge\">\n",
       "<title>7&#45;&gt;8</title>\n",
       "<path fill=\"none\" stroke=\"#000000\" d=\"M288.6084,-213.7677C288.6084,-203.3338 288.6084,-192.0174 288.6084,-181.4215\"/>\n",
       "<polygon fill=\"#000000\" stroke=\"#000000\" points=\"292.1085,-181.1252 288.6084,-171.1252 285.1085,-181.1252 292.1085,-181.1252\"/>\n",
       "</g>\n",
       "<!-- 9 -->\n",
       "<g id=\"node10\" class=\"node\">\n",
       "<title>9</title>\n",
       "<path fill=\"#7bbeee\" stroke=\"#000000\" d=\"M446.3254,-178C446.3254,-178 368.8914,-178 368.8914,-178 362.8914,-178 356.8914,-172 356.8914,-166 356.8914,-166 356.8914,-112 356.8914,-112 356.8914,-106 362.8914,-100 368.8914,-100 368.8914,-100 446.3254,-100 446.3254,-100 452.3254,-100 458.3254,-106 458.3254,-112 458.3254,-112 458.3254,-166 458.3254,-166 458.3254,-172 452.3254,-178 446.3254,-178\"/>\n",
       "<text text-anchor=\"start\" x=\"378.8599\" y=\"-162.8\" font-family=\"Helvetica,sans-Serif\" font-size=\"14.00\" fill=\"#000000\">y ≤ 7.645</text>\n",
       "<text text-anchor=\"start\" x=\"371.2173\" y=\"-148.8\" font-family=\"Helvetica,sans-Serif\" font-size=\"14.00\" fill=\"#000000\">gini = 0.375</text>\n",
       "<text text-anchor=\"start\" x=\"369.6724\" y=\"-134.8\" font-family=\"Helvetica,sans-Serif\" font-size=\"14.00\" fill=\"#000000\">samples = 4</text>\n",
       "<text text-anchor=\"start\" x=\"367.3311\" y=\"-120.8\" font-family=\"Helvetica,sans-Serif\" font-size=\"14.00\" fill=\"#000000\">value = [1, 3]</text>\n",
       "<text text-anchor=\"start\" x=\"365\" y=\"-106.8\" font-family=\"Helvetica,sans-Serif\" font-size=\"14.00\" fill=\"#000000\">class = label0</text>\n",
       "</g>\n",
       "<!-- 7&#45;&gt;9 -->\n",
       "<g id=\"edge9\" class=\"edge\">\n",
       "<title>7&#45;&gt;9</title>\n",
       "<path fill=\"none\" stroke=\"#000000\" d=\"M329.5614,-213.7677C339.0978,-204.632 349.3404,-194.8198 359.166,-185.407\"/>\n",
       "<polygon fill=\"#000000\" stroke=\"#000000\" points=\"361.7799,-187.7498 366.5799,-178.3046 356.9375,-182.695 361.7799,-187.7498\"/>\n",
       "</g>\n",
       "<!-- 10 -->\n",
       "<g id=\"node11\" class=\"node\">\n",
       "<title>10</title>\n",
       "<path fill=\"#e58139\" stroke=\"#000000\" d=\"M386.3254,-64C386.3254,-64 308.8914,-64 308.8914,-64 302.8914,-64 296.8914,-58 296.8914,-52 296.8914,-52 296.8914,-12 296.8914,-12 296.8914,-6 302.8914,0 308.8914,0 308.8914,0 386.3254,0 386.3254,0 392.3254,0 398.3254,-6 398.3254,-12 398.3254,-12 398.3254,-52 398.3254,-52 398.3254,-58 392.3254,-64 386.3254,-64\"/>\n",
       "<text text-anchor=\"start\" x=\"319.0034\" y=\"-48.8\" font-family=\"Helvetica,sans-Serif\" font-size=\"14.00\" fill=\"#000000\">gini = 0.0</text>\n",
       "<text text-anchor=\"start\" x=\"309.6724\" y=\"-34.8\" font-family=\"Helvetica,sans-Serif\" font-size=\"14.00\" fill=\"#000000\">samples = 1</text>\n",
       "<text text-anchor=\"start\" x=\"307.3311\" y=\"-20.8\" font-family=\"Helvetica,sans-Serif\" font-size=\"14.00\" fill=\"#000000\">value = [1, 0]</text>\n",
       "<text text-anchor=\"start\" x=\"305\" y=\"-6.8\" font-family=\"Helvetica,sans-Serif\" font-size=\"14.00\" fill=\"#000000\">class = label1</text>\n",
       "</g>\n",
       "<!-- 9&#45;&gt;10 -->\n",
       "<g id=\"edge10\" class=\"edge\">\n",
       "<title>9&#45;&gt;10</title>\n",
       "<path fill=\"none\" stroke=\"#000000\" d=\"M385.6073,-99.7647C380.7421,-91.0884 375.574,-81.8721 370.668,-73.123\"/>\n",
       "<polygon fill=\"#000000\" stroke=\"#000000\" points=\"373.6178,-71.2273 365.6739,-64.2169 367.5122,-74.651 373.6178,-71.2273\"/>\n",
       "</g>\n",
       "<!-- 11 -->\n",
       "<g id=\"node12\" class=\"node\">\n",
       "<title>11</title>\n",
       "<path fill=\"#399de5\" stroke=\"#000000\" d=\"M505.3254,-64C505.3254,-64 427.8914,-64 427.8914,-64 421.8914,-64 415.8914,-58 415.8914,-52 415.8914,-52 415.8914,-12 415.8914,-12 415.8914,-6 421.8914,0 427.8914,0 427.8914,0 505.3254,0 505.3254,0 511.3254,0 517.3254,-6 517.3254,-12 517.3254,-12 517.3254,-52 517.3254,-52 517.3254,-58 511.3254,-64 505.3254,-64\"/>\n",
       "<text text-anchor=\"start\" x=\"438.0034\" y=\"-48.8\" font-family=\"Helvetica,sans-Serif\" font-size=\"14.00\" fill=\"#000000\">gini = 0.0</text>\n",
       "<text text-anchor=\"start\" x=\"428.6724\" y=\"-34.8\" font-family=\"Helvetica,sans-Serif\" font-size=\"14.00\" fill=\"#000000\">samples = 3</text>\n",
       "<text text-anchor=\"start\" x=\"426.3311\" y=\"-20.8\" font-family=\"Helvetica,sans-Serif\" font-size=\"14.00\" fill=\"#000000\">value = [0, 3]</text>\n",
       "<text text-anchor=\"start\" x=\"424\" y=\"-6.8\" font-family=\"Helvetica,sans-Serif\" font-size=\"14.00\" fill=\"#000000\">class = label0</text>\n",
       "</g>\n",
       "<!-- 9&#45;&gt;11 -->\n",
       "<g id=\"edge11\" class=\"edge\">\n",
       "<title>9&#45;&gt;11</title>\n",
       "<path fill=\"none\" stroke=\"#000000\" d=\"M429.2428,-99.7647C434.027,-91.0884 439.1089,-81.8721 443.9331,-73.123\"/>\n",
       "<polygon fill=\"#000000\" stroke=\"#000000\" points=\"447.0802,-74.6639 448.844,-64.2169 440.9503,-71.2838 447.0802,-74.6639\"/>\n",
       "</g>\n",
       "</g>\n",
       "</svg>\n"
      ],
      "text/plain": [
       "<graphviz.files.Source at 0x1a2126ca10>"
      ]
     },
     "execution_count": 10,
     "metadata": {},
     "output_type": "execute_result"
    }
   ],
   "source": [
    "graph"
   ]
  },
  {
   "cell_type": "code",
   "execution_count": 17,
   "metadata": {},
   "outputs": [
    {
     "name": "stdout",
     "output_type": "stream",
     "text": [
      "[[-4.642001 -4.181888]\n",
      " [-4.622001 -4.181888]\n",
      " [-4.602001 -4.181888]\n",
      " ...\n",
      " [ 3.957999 15.738112]\n",
      " [ 3.977999 15.738112]\n",
      " [ 3.997999 15.738112]]\n"
     ]
    },
    {
     "data": {
      "image/png": "[encoded data removed]",
      "text/plain": [
       "<Figure size 432x288 with 1 Axes>"
      ]
     },
     "metadata": {
      "needs_background": "light"
     },
     "output_type": "display_data"
    }
   ],
   "source": [
    "x_min, x_max =x_data[:, 0].min()-1, x_data[:, 0].max()+1\n",
    "y_min, y_max =x_data[:, 1].min()-1, x_data[:, 1].max()+1\n",
    "#生成网格矩阵\n",
    "xx,yy =np.meshgrid(np.arange(x_min, x_max, 0.02),\n",
    "                            np.arange(y_min,y_max,0.02))\n",
    "# print(xx.shape)\n",
    "# print(xx.ravel().shape)\n",
    "\n",
    "z =model.predict(np.c_[xx.ravel(), yy.ravel()])\n",
    "# print(np.c_[xx.ravel(), yy.ravel()])\n",
    "z = z.reshape(xx.shape)\n",
    "\n",
    "cs = plt.contourf(xx,yy,z)\n",
    "plt.scatter(x_data[:,0], x_data[:,1], c= y_data)  \n",
    "plt.show()"
   ]
  },
  {
   "cell_type": "code",
   "execution_count": 18,
   "metadata": {},
   "outputs": [
    {
     "name": "stdout",
     "output_type": "stream",
     "text": [
      "              precision    recall  f1-score   support\n",
      "\n",
      "         0.0       1.00      1.00      1.00        47\n",
      "         1.0       1.00      1.00      1.00        53\n",
      "\n",
      "    accuracy                           1.00       100\n",
      "   macro avg       1.00      1.00      1.00       100\n",
      "weighted avg       1.00      1.00      1.00       100\n",
      "\n"
     ]
    }
   ],
   "source": [
    "predictions = model.predict(x_data)\n",
    "report = classification_report(y_data,predictions)\n",
    "print(report)"
   ]
  },
  {
   "cell_type": "code",
   "execution_count": null,
   "metadata": {},
   "outputs": [],
   "source": []
  }
 ],
 "metadata": {
  "kernelspec": {
   "display_name": "Python 3",
   "language": "python",
   "name": "python3"
  },
  "language_info": {
   "codemirror_mode": {
    "name": "ipython",
    "version": 3
   },
   "file_extension": ".py",
   "mimetype": "text/x-python",
   "name": "python",
   "nbconvert_exporter": "python",
   "pygments_lexer": "ipython3",
   "version": "3.7.7"
  }
 },
 "nbformat": 4,
 "nbformat_minor": 4
}
