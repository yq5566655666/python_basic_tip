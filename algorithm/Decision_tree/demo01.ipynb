{
 "cells": [
  {
   "cell_type": "code",
   "execution_count": 1,
   "metadata": {},
   "outputs": [],
   "source": [
    "#决策树例子\n",
    "\n",
    "from sklearn.feature_extraction import DictVectorizer\n",
    "from sklearn import tree\n",
    "from sklearn import preprocessing\n",
    "import csv"
   ]
  },
  {
   "cell_type": "code",
   "execution_count": 2,
   "metadata": {},
   "outputs": [
    {
     "name": "stdout",
     "output_type": "stream",
     "text": [
      "['RID', 'age', 'income', 'student', 'credit_rating', 'class_buys_computer']\n"
     ]
    }
   ],
   "source": [
    "#读入数据\n",
    "Dtree = open(r'AllElectronics.csv','r')\n",
    "reader = csv.reader(Dtree)#文件很多是字符，全是数字用numpy genfromtxt\n",
    "\n",
    "headers = reader.__next__()\n",
    "print(headers)"
   ]
  },
  {
   "cell_type": "code",
   "execution_count": 3,
   "metadata": {},
   "outputs": [
    {
     "name": "stdout",
     "output_type": "stream",
     "text": [
      "[{'age': 'youth', 'income': 'high', 'student': 'no', 'credit_rating': 'fair'}, {'age': 'youth', 'income': 'high', 'student': 'no', 'credit_rating': 'excellent'}, {'age': 'middle_aged', 'income': 'high', 'student': 'no', 'credit_rating': 'fair'}, {'age': 'senior', 'income': 'medium', 'student': 'no', 'credit_rating': 'fair'}, {'age': 'senior', 'income': 'low', 'student': 'yes', 'credit_rating': 'fair'}, {'age': 'senior', 'income': 'low', 'student': 'yes', 'credit_rating': 'excellent'}, {'age': 'middle_aged', 'income': 'low', 'student': 'yes', 'credit_rating': 'excellent'}, {'age': 'youth', 'income': 'medium', 'student': 'no', 'credit_rating': 'fair'}, {'age': 'youth', 'income': 'low', 'student': 'yes', 'credit_rating': 'fair'}, {'age': 'senior', 'income': 'medium', 'student': 'yes', 'credit_rating': 'fair'}, {'age': 'youth', 'income': 'medium', 'student': 'yes', 'credit_rating': 'excellent'}, {'age': 'middle_aged', 'income': 'medium', 'student': 'no', 'credit_rating': 'excellent'}, {'age': 'middle_aged', 'income': 'high', 'student': 'yes', 'credit_rating': 'fair'}, {'age': 'senior', 'income': 'medium', 'student': 'no', 'credit_rating': 'excellent'}]\n"
     ]
    }
   ],
   "source": [
    "featureList = []\n",
    "labelList = []\n",
    "\n",
    "for row in reader:\n",
    "    #lable是标签列\n",
    "    labelList.append(row[-1])\n",
    "\n",
    "    rowDict = {}\n",
    "    for i in range(1, len(row)-1):\n",
    "        rowDict[headers[i]] = row[i]\n",
    "    featureList.append(rowDict)\n",
    "    \n",
    "#     print(row[-1])\n",
    "print(featureList)\n",
    "    "
   ]
  },
  {
   "cell_type": "code",
   "execution_count": 4,
   "metadata": {},
   "outputs": [
    {
     "name": "stdout",
     "output_type": "stream",
     "text": [
      "x_data:[[0. 0. 1. 0. 1. 1. 0. 0. 1. 0.]\n",
      " [0. 0. 1. 1. 0. 1. 0. 0. 1. 0.]\n",
      " [1. 0. 0. 0. 1. 1. 0. 0. 1. 0.]\n",
      " [0. 1. 0. 0. 1. 0. 0. 1. 1. 0.]\n",
      " [0. 1. 0. 0. 1. 0. 1. 0. 0. 1.]\n",
      " [0. 1. 0. 1. 0. 0. 1. 0. 0. 1.]\n",
      " [1. 0. 0. 1. 0. 0. 1. 0. 0. 1.]\n",
      " [0. 0. 1. 0. 1. 0. 0. 1. 1. 0.]\n",
      " [0. 0. 1. 0. 1. 0. 1. 0. 0. 1.]\n",
      " [0. 1. 0. 0. 1. 0. 0. 1. 0. 1.]\n",
      " [0. 0. 1. 1. 0. 0. 0. 1. 0. 1.]\n",
      " [1. 0. 0. 1. 0. 0. 0. 1. 1. 0.]\n",
      " [1. 0. 0. 0. 1. 1. 0. 0. 0. 1.]\n",
      " [0. 1. 0. 1. 0. 0. 0. 1. 1. 0.]]\n",
      "['age=middle_aged', 'age=senior', 'age=youth', 'credit_rating=excellent', 'credit_rating=fair', 'income=high', 'income=low', 'income=medium', 'student=no', 'student=yes']\n",
      "labelList:['no', 'no', 'yes', 'yes', 'yes', 'no', 'yes', 'no', 'yes', 'yes', 'yes', 'yes', 'yes', 'no']\n",
      "y_data:[[0]\n",
      " [0]\n",
      " [1]\n",
      " [1]\n",
      " [1]\n",
      " [0]\n",
      " [1]\n",
      " [0]\n",
      " [1]\n",
      " [1]\n",
      " [1]\n",
      " [1]\n",
      " [1]\n",
      " [0]]\n"
     ]
    }
   ],
   "source": [
    "#把数据转化成01表示\n",
    "vec  = DictVectorizer()\n",
    "\n",
    "x_data = vec.fit_transform(featureList).toarray()\n",
    "\n",
    "print(\"x_data:\" + str(x_data))\n",
    "\n",
    "#打印属性名称\n",
    "\n",
    "print(vec.get_feature_names())#注意vec是可以得到的\n",
    "\n",
    "#打印标签\n",
    "print('labelList:' + str(labelList))\n",
    "\n",
    "#把标签转化为01表示\n",
    "\n",
    "lb  = preprocessing.LabelBinarizer()\n",
    "y_data = lb.fit_transform(labelList)\n",
    "print('y_data:' +str(y_data))"
   ]
  },
  {
   "cell_type": "code",
   "execution_count": 5,
   "metadata": {},
   "outputs": [
    {
     "data": {
      "text/plain": [
       "DecisionTreeClassifier(ccp_alpha=0.0, class_weight=None, criterion='entropy',\n",
       "                       max_depth=None, max_features=None, max_leaf_nodes=None,\n",
       "                       min_impurity_decrease=0.0, min_impurity_split=None,\n",
       "                       min_samples_leaf=1, min_samples_split=2,\n",
       "                       min_weight_fraction_leaf=0.0, presort='deprecated',\n",
       "                       random_state=None, splitter='best')"
      ]
     },
     "execution_count": 5,
     "metadata": {},
     "output_type": "execute_result"
    }
   ],
   "source": [
    "model = tree.DecisionTreeClassifier(criterion='entropy')\n",
    "model.fit(x_data,y_data)"
   ]
  },
  {
   "cell_type": "code",
   "execution_count": 6,
   "metadata": {},
   "outputs": [
    {
     "name": "stdout",
     "output_type": "stream",
     "text": [
      "x_test:[0. 0. 1. 0. 1. 1. 0. 0. 1. 0.]\n",
      "[[0. 0. 1. 0. 1. 1. 0. 0. 1. 0.]]\n",
      "predict:[0]\n"
     ]
    }
   ],
   "source": [
    "#测试\n",
    "x_test = x_data[0]\n",
    "print('x_test:' + str(x_test))\n",
    "print(x_test.reshape(1,-1))#转化为二维\n",
    "predict = model.predict(x_test.reshape(1,-1))\n",
    "print('predict:' + str(predict))"
   ]
  },
  {
   "cell_type": "code",
   "execution_count": 18,
   "metadata": {},
   "outputs": [
    {
     "data": {
      "text/plain": [
       "'computer.pdf'"
      ]
     },
     "execution_count": 18,
     "metadata": {},
     "output_type": "execute_result"
    }
   ],
   "source": [
    "#导出决策树\n",
    "\n",
    "import graphviz\n",
    "\n",
    "dot_data = tree.export_graphviz(model,\n",
    "                                            out_file= None,\n",
    "                                            feature_names = vec.get_feature_names(),\n",
    "                                            class_names = lb.classes_,\n",
    "                                            filled = True,\n",
    "                                            rounded = True,\n",
    "                                            special_characters =True)\n",
    "\n",
    "graph = graphviz.Source(dot_data)\n",
    "graph.render('computer')\n",
    "# print(1b.classes_)"
   ]
  },
  {
   "cell_type": "code",
   "execution_count": 19,
   "metadata": {},
   "outputs": [
    {
     "data": {
      "image/svg+xml": [
       "<?xml version=\"1.0\" encoding=\"UTF-8\" standalone=\"no\"?>\n",
       "<!DOCTYPE svg PUBLIC \"-//W3C//DTD SVG 1.1//EN\"\n",
       " \"http://www.w3.org/Graphics/SVG/1.1/DTD/svg11.dtd\">\n",
       "<!-- Generated by graphviz version 2.40.1 (20161225.0304)\n",
       " -->\n",
       "<!-- Title: Tree Pages: 1 -->\n",
       "<svg width=\"573pt\" height=\"528pt\"\n",
       " viewBox=\"0.00 0.00 573.11 528.00\" xmlns=\"http://www.w3.org/2000/svg\" xmlns:xlink=\"http://www.w3.org/1999/xlink\">\n",
       "<g id=\"graph0\" class=\"graph\" transform=\"scale(1 1) rotate(0) translate(4 524)\">\n",
       "<title>Tree</title>\n",
       "<polygon fill=\"#ffffff\" stroke=\"transparent\" points=\"-4,4 -4,-524 569.1133,-524 569.1133,4 -4,4\"/>\n",
       "<!-- 0 -->\n",
       "<g id=\"node1\" class=\"node\">\n",
       "<title>0</title>\n",
       "<path fill=\"#a7d3f3\" stroke=\"#000000\" d=\"M431.1879,-520C431.1879,-520 292.9254,-520 292.9254,-520 286.9254,-520 280.9254,-514 280.9254,-508 280.9254,-508 280.9254,-454 280.9254,-454 280.9254,-448 286.9254,-442 292.9254,-442 292.9254,-442 431.1879,-442 431.1879,-442 437.1879,-442 443.1879,-448 443.1879,-454 443.1879,-454 443.1879,-508 443.1879,-508 443.1879,-514 437.1879,-520 431.1879,-520\"/>\n",
       "<text text-anchor=\"start\" x=\"288.7412\" y=\"-504.8\" font-family=\"Helvetica,sans-Serif\" font-size=\"14.00\" fill=\"#000000\">age=middle_aged ≤ 0.5</text>\n",
       "<text text-anchor=\"start\" x=\"317.1069\" y=\"-490.8\" font-family=\"Helvetica,sans-Serif\" font-size=\"14.00\" fill=\"#000000\">entropy = 0.94</text>\n",
       "<text text-anchor=\"start\" x=\"320.2275\" y=\"-476.8\" font-family=\"Helvetica,sans-Serif\" font-size=\"14.00\" fill=\"#000000\">samples = 14</text>\n",
       "<text text-anchor=\"start\" x=\"321.7793\" y=\"-462.8\" font-family=\"Helvetica,sans-Serif\" font-size=\"14.00\" fill=\"#000000\">value = [5, 9]</text>\n",
       "<text text-anchor=\"start\" x=\"327.2378\" y=\"-448.8\" font-family=\"Helvetica,sans-Serif\" font-size=\"14.00\" fill=\"#000000\">class = yes</text>\n",
       "</g>\n",
       "<!-- 1 -->\n",
       "<g id=\"node2\" class=\"node\">\n",
       "<title>1</title>\n",
       "<path fill=\"#ffffff\" stroke=\"#000000\" d=\"M348.3673,-406C348.3673,-406 245.746,-406 245.746,-406 239.746,-406 233.746,-400 233.746,-394 233.746,-394 233.746,-340 233.746,-340 233.746,-334 239.746,-328 245.746,-328 245.746,-328 348.3673,-328 348.3673,-328 354.3673,-328 360.3673,-334 360.3673,-340 360.3673,-340 360.3673,-394 360.3673,-394 360.3673,-400 354.3673,-406 348.3673,-406\"/>\n",
       "<text text-anchor=\"start\" x=\"241.6514\" y=\"-390.8\" font-family=\"Helvetica,sans-Serif\" font-size=\"14.00\" fill=\"#000000\">student=yes ≤ 0.5</text>\n",
       "<text text-anchor=\"start\" x=\"256\" y=\"-376.8\" font-family=\"Helvetica,sans-Serif\" font-size=\"14.00\" fill=\"#000000\">entropy = 1.0</text>\n",
       "<text text-anchor=\"start\" x=\"255.2275\" y=\"-362.8\" font-family=\"Helvetica,sans-Serif\" font-size=\"14.00\" fill=\"#000000\">samples = 10</text>\n",
       "<text text-anchor=\"start\" x=\"256.7793\" y=\"-348.8\" font-family=\"Helvetica,sans-Serif\" font-size=\"14.00\" fill=\"#000000\">value = [5, 5]</text>\n",
       "<text text-anchor=\"start\" x=\"265.3447\" y=\"-334.8\" font-family=\"Helvetica,sans-Serif\" font-size=\"14.00\" fill=\"#000000\">class = no</text>\n",
       "</g>\n",
       "<!-- 0&#45;&gt;1 -->\n",
       "<g id=\"edge1\" class=\"edge\">\n",
       "<title>0&#45;&gt;1</title>\n",
       "<path fill=\"none\" stroke=\"#000000\" d=\"M339.6873,-441.7677C334.7848,-433.1694 329.5406,-423.9718 324.4661,-415.072\"/>\n",
       "<polygon fill=\"#000000\" stroke=\"#000000\" points=\"327.4609,-413.2581 319.4672,-406.3046 321.3799,-416.7254 327.4609,-413.2581\"/>\n",
       "<text text-anchor=\"middle\" x=\"312.8665\" y=\"-426.2175\" font-family=\"Helvetica,sans-Serif\" font-size=\"14.00\" fill=\"#000000\">True</text>\n",
       "</g>\n",
       "<!-- 12 -->\n",
       "<g id=\"node13\" class=\"node\">\n",
       "<title>12</title>\n",
       "<path fill=\"#399de5\" stroke=\"#000000\" d=\"M464.17,-399C464.17,-399 389.9433,-399 389.9433,-399 383.9433,-399 377.9433,-393 377.9433,-387 377.9433,-387 377.9433,-347 377.9433,-347 377.9433,-341 383.9433,-335 389.9433,-335 389.9433,-335 464.17,-335 464.17,-335 470.17,-335 476.17,-341 476.17,-347 476.17,-347 476.17,-387 476.17,-387 476.17,-393 470.17,-399 464.17,-399\"/>\n",
       "<text text-anchor=\"start\" x=\"386\" y=\"-383.8\" font-family=\"Helvetica,sans-Serif\" font-size=\"14.00\" fill=\"#000000\">entropy = 0.0</text>\n",
       "<text text-anchor=\"start\" x=\"389.1206\" y=\"-369.8\" font-family=\"Helvetica,sans-Serif\" font-size=\"14.00\" fill=\"#000000\">samples = 4</text>\n",
       "<text text-anchor=\"start\" x=\"386.7793\" y=\"-355.8\" font-family=\"Helvetica,sans-Serif\" font-size=\"14.00\" fill=\"#000000\">value = [0, 4]</text>\n",
       "<text text-anchor=\"start\" x=\"392.2378\" y=\"-341.8\" font-family=\"Helvetica,sans-Serif\" font-size=\"14.00\" fill=\"#000000\">class = yes</text>\n",
       "</g>\n",
       "<!-- 0&#45;&gt;12 -->\n",
       "<g id=\"edge12\" class=\"edge\">\n",
       "<title>0&#45;&gt;12</title>\n",
       "<path fill=\"none\" stroke=\"#000000\" d=\"M384.426,-441.7677C390.623,-430.8991 397.366,-419.0729 403.6219,-408.1009\"/>\n",
       "<polygon fill=\"#000000\" stroke=\"#000000\" points=\"406.8269,-409.546 408.7396,-399.1252 400.7459,-406.0787 406.8269,-409.546\"/>\n",
       "<text text-anchor=\"middle\" x=\"415.3404\" y=\"-419.0381\" font-family=\"Helvetica,sans-Serif\" font-size=\"14.00\" fill=\"#000000\">False</text>\n",
       "</g>\n",
       "<!-- 2 -->\n",
       "<g id=\"node3\" class=\"node\">\n",
       "<title>2</title>\n",
       "<path fill=\"#eca06a\" stroke=\"#000000\" d=\"M266.264,-292C266.264,-292 173.8492,-292 173.8492,-292 167.8492,-292 161.8492,-286 161.8492,-280 161.8492,-280 161.8492,-226 161.8492,-226 161.8492,-220 167.8492,-214 173.8492,-214 173.8492,-214 266.264,-214 266.264,-214 272.264,-214 278.264,-220 278.264,-226 278.264,-226 278.264,-280 278.264,-280 278.264,-286 272.264,-292 266.264,-292\"/>\n",
       "<text text-anchor=\"start\" x=\"169.7031\" y=\"-276.8\" font-family=\"Helvetica,sans-Serif\" font-size=\"14.00\" fill=\"#000000\">age=youth ≤ 0.5</text>\n",
       "<text text-anchor=\"start\" x=\"171.2139\" y=\"-262.8\" font-family=\"Helvetica,sans-Serif\" font-size=\"14.00\" fill=\"#000000\">entropy = 0.722</text>\n",
       "<text text-anchor=\"start\" x=\"182.1206\" y=\"-248.8\" font-family=\"Helvetica,sans-Serif\" font-size=\"14.00\" fill=\"#000000\">samples = 5</text>\n",
       "<text text-anchor=\"start\" x=\"179.7793\" y=\"-234.8\" font-family=\"Helvetica,sans-Serif\" font-size=\"14.00\" fill=\"#000000\">value = [4, 1]</text>\n",
       "<text text-anchor=\"start\" x=\"188.3447\" y=\"-220.8\" font-family=\"Helvetica,sans-Serif\" font-size=\"14.00\" fill=\"#000000\">class = no</text>\n",
       "</g>\n",
       "<!-- 1&#45;&gt;2 -->\n",
       "<g id=\"edge2\" class=\"edge\">\n",
       "<title>1&#45;&gt;2</title>\n",
       "<path fill=\"none\" stroke=\"#000000\" d=\"M270.5576,-327.7677C264.6895,-319.0798 258.4081,-309.7801 252.3385,-300.794\"/>\n",
       "<polygon fill=\"#000000\" stroke=\"#000000\" points=\"255.1022,-298.6324 246.6045,-292.3046 249.3014,-302.5505 255.1022,-298.6324\"/>\n",
       "</g>\n",
       "<!-- 7 -->\n",
       "<g id=\"node8\" class=\"node\">\n",
       "<title>7</title>\n",
       "<path fill=\"#6ab6ec\" stroke=\"#000000\" d=\"M439.647,-292C439.647,-292 308.4663,-292 308.4663,-292 302.4663,-292 296.4663,-286 296.4663,-280 296.4663,-280 296.4663,-226 296.4663,-226 296.4663,-220 302.4663,-214 308.4663,-214 308.4663,-214 439.647,-214 439.647,-214 445.647,-214 451.647,-220 451.647,-226 451.647,-226 451.647,-280 451.647,-280 451.647,-286 445.647,-292 439.647,-292\"/>\n",
       "<text text-anchor=\"start\" x=\"304.2617\" y=\"-276.8\" font-family=\"Helvetica,sans-Serif\" font-size=\"14.00\" fill=\"#000000\">credit_rating=fair ≤ 0.5</text>\n",
       "<text text-anchor=\"start\" x=\"325.2139\" y=\"-262.8\" font-family=\"Helvetica,sans-Serif\" font-size=\"14.00\" fill=\"#000000\">entropy = 0.722</text>\n",
       "<text text-anchor=\"start\" x=\"336.1206\" y=\"-248.8\" font-family=\"Helvetica,sans-Serif\" font-size=\"14.00\" fill=\"#000000\">samples = 5</text>\n",
       "<text text-anchor=\"start\" x=\"333.7793\" y=\"-234.8\" font-family=\"Helvetica,sans-Serif\" font-size=\"14.00\" fill=\"#000000\">value = [1, 4]</text>\n",
       "<text text-anchor=\"start\" x=\"339.2378\" y=\"-220.8\" font-family=\"Helvetica,sans-Serif\" font-size=\"14.00\" fill=\"#000000\">class = yes</text>\n",
       "</g>\n",
       "<!-- 1&#45;&gt;7 -->\n",
       "<g id=\"edge7\" class=\"edge\">\n",
       "<title>1&#45;&gt;7</title>\n",
       "<path fill=\"none\" stroke=\"#000000\" d=\"M323.5557,-327.7677C329.4238,-319.0798 335.7052,-309.7801 341.7748,-300.794\"/>\n",
       "<polygon fill=\"#000000\" stroke=\"#000000\" points=\"344.8119,-302.5505 347.5088,-292.3046 339.0111,-298.6324 344.8119,-302.5505\"/>\n",
       "</g>\n",
       "<!-- 3 -->\n",
       "<g id=\"node4\" class=\"node\">\n",
       "<title>3</title>\n",
       "<path fill=\"#ffffff\" stroke=\"#000000\" d=\"M143.647,-178C143.647,-178 12.4663,-178 12.4663,-178 6.4663,-178 .4663,-172 .4663,-166 .4663,-166 .4663,-112 .4663,-112 .4663,-106 6.4663,-100 12.4663,-100 12.4663,-100 143.647,-100 143.647,-100 149.647,-100 155.647,-106 155.647,-112 155.647,-112 155.647,-166 155.647,-166 155.647,-172 149.647,-178 143.647,-178\"/>\n",
       "<text text-anchor=\"start\" x=\"8.2617\" y=\"-162.8\" font-family=\"Helvetica,sans-Serif\" font-size=\"14.00\" fill=\"#000000\">credit_rating=fair ≤ 0.5</text>\n",
       "<text text-anchor=\"start\" x=\"37\" y=\"-148.8\" font-family=\"Helvetica,sans-Serif\" font-size=\"14.00\" fill=\"#000000\">entropy = 1.0</text>\n",
       "<text text-anchor=\"start\" x=\"40.1206\" y=\"-134.8\" font-family=\"Helvetica,sans-Serif\" font-size=\"14.00\" fill=\"#000000\">samples = 2</text>\n",
       "<text text-anchor=\"start\" x=\"37.7793\" y=\"-120.8\" font-family=\"Helvetica,sans-Serif\" font-size=\"14.00\" fill=\"#000000\">value = [1, 1]</text>\n",
       "<text text-anchor=\"start\" x=\"46.3447\" y=\"-106.8\" font-family=\"Helvetica,sans-Serif\" font-size=\"14.00\" fill=\"#000000\">class = no</text>\n",
       "</g>\n",
       "<!-- 2&#45;&gt;3 -->\n",
       "<g id=\"edge3\" class=\"edge\">\n",
       "<title>2&#45;&gt;3</title>\n",
       "<path fill=\"none\" stroke=\"#000000\" d=\"M171.1883,-213.7677C159.4741,-204.3633 146.8668,-194.242 134.8286,-184.5775\"/>\n",
       "<polygon fill=\"#000000\" stroke=\"#000000\" points=\"137.0042,-181.8357 127.0151,-178.3046 132.6219,-187.2943 137.0042,-181.8357\"/>\n",
       "</g>\n",
       "<!-- 6 -->\n",
       "<g id=\"node7\" class=\"node\">\n",
       "<title>6</title>\n",
       "<path fill=\"#e58139\" stroke=\"#000000\" d=\"M260.17,-171C260.17,-171 185.9433,-171 185.9433,-171 179.9433,-171 173.9433,-165 173.9433,-159 173.9433,-159 173.9433,-119 173.9433,-119 173.9433,-113 179.9433,-107 185.9433,-107 185.9433,-107 260.17,-107 260.17,-107 266.17,-107 272.17,-113 272.17,-119 272.17,-119 272.17,-159 272.17,-159 272.17,-165 266.17,-171 260.17,-171\"/>\n",
       "<text text-anchor=\"start\" x=\"182\" y=\"-155.8\" font-family=\"Helvetica,sans-Serif\" font-size=\"14.00\" fill=\"#000000\">entropy = 0.0</text>\n",
       "<text text-anchor=\"start\" x=\"185.1206\" y=\"-141.8\" font-family=\"Helvetica,sans-Serif\" font-size=\"14.00\" fill=\"#000000\">samples = 3</text>\n",
       "<text text-anchor=\"start\" x=\"182.7793\" y=\"-127.8\" font-family=\"Helvetica,sans-Serif\" font-size=\"14.00\" fill=\"#000000\">value = [3, 0]</text>\n",
       "<text text-anchor=\"start\" x=\"191.3447\" y=\"-113.8\" font-family=\"Helvetica,sans-Serif\" font-size=\"14.00\" fill=\"#000000\">class = no</text>\n",
       "</g>\n",
       "<!-- 2&#45;&gt;6 -->\n",
       "<g id=\"edge6\" class=\"edge\">\n",
       "<title>2&#45;&gt;6</title>\n",
       "<path fill=\"none\" stroke=\"#000000\" d=\"M221.0891,-213.7677C221.3636,-203.3338 221.6614,-192.0174 221.9403,-181.4215\"/>\n",
       "<polygon fill=\"#000000\" stroke=\"#000000\" points=\"225.4469,-181.2138 222.2112,-171.1252 218.4493,-181.0296 225.4469,-181.2138\"/>\n",
       "</g>\n",
       "<!-- 4 -->\n",
       "<g id=\"node5\" class=\"node\">\n",
       "<title>4</title>\n",
       "<path fill=\"#e58139\" stroke=\"#000000\" d=\"M86.17,-64C86.17,-64 11.9433,-64 11.9433,-64 5.9433,-64 -.0567,-58 -.0567,-52 -.0567,-52 -.0567,-12 -.0567,-12 -.0567,-6 5.9433,0 11.9433,0 11.9433,0 86.17,0 86.17,0 92.17,0 98.17,-6 98.17,-12 98.17,-12 98.17,-52 98.17,-52 98.17,-58 92.17,-64 86.17,-64\"/>\n",
       "<text text-anchor=\"start\" x=\"8\" y=\"-48.8\" font-family=\"Helvetica,sans-Serif\" font-size=\"14.00\" fill=\"#000000\">entropy = 0.0</text>\n",
       "<text text-anchor=\"start\" x=\"11.1206\" y=\"-34.8\" font-family=\"Helvetica,sans-Serif\" font-size=\"14.00\" fill=\"#000000\">samples = 1</text>\n",
       "<text text-anchor=\"start\" x=\"8.7793\" y=\"-20.8\" font-family=\"Helvetica,sans-Serif\" font-size=\"14.00\" fill=\"#000000\">value = [1, 0]</text>\n",
       "<text text-anchor=\"start\" x=\"17.3447\" y=\"-6.8\" font-family=\"Helvetica,sans-Serif\" font-size=\"14.00\" fill=\"#000000\">class = no</text>\n",
       "</g>\n",
       "<!-- 3&#45;&gt;4 -->\n",
       "<g id=\"edge4\" class=\"edge\">\n",
       "<title>3&#45;&gt;4</title>\n",
       "<path fill=\"none\" stroke=\"#000000\" d=\"M67.4228,-99.7647C65.1455,-91.3624 62.731,-82.4536 60.4271,-73.9532\"/>\n",
       "<polygon fill=\"#000000\" stroke=\"#000000\" points=\"63.7824,-72.9531 57.7883,-64.2169 57.0262,-74.7843 63.7824,-72.9531\"/>\n",
       "</g>\n",
       "<!-- 5 -->\n",
       "<g id=\"node6\" class=\"node\">\n",
       "<title>5</title>\n",
       "<path fill=\"#399de5\" stroke=\"#000000\" d=\"M202.17,-64C202.17,-64 127.9433,-64 127.9433,-64 121.9433,-64 115.9433,-58 115.9433,-52 115.9433,-52 115.9433,-12 115.9433,-12 115.9433,-6 121.9433,0 127.9433,0 127.9433,0 202.17,0 202.17,0 208.17,0 214.17,-6 214.17,-12 214.17,-12 214.17,-52 214.17,-52 214.17,-58 208.17,-64 202.17,-64\"/>\n",
       "<text text-anchor=\"start\" x=\"124\" y=\"-48.8\" font-family=\"Helvetica,sans-Serif\" font-size=\"14.00\" fill=\"#000000\">entropy = 0.0</text>\n",
       "<text text-anchor=\"start\" x=\"127.1206\" y=\"-34.8\" font-family=\"Helvetica,sans-Serif\" font-size=\"14.00\" fill=\"#000000\">samples = 1</text>\n",
       "<text text-anchor=\"start\" x=\"124.7793\" y=\"-20.8\" font-family=\"Helvetica,sans-Serif\" font-size=\"14.00\" fill=\"#000000\">value = [0, 1]</text>\n",
       "<text text-anchor=\"start\" x=\"130.2378\" y=\"-6.8\" font-family=\"Helvetica,sans-Serif\" font-size=\"14.00\" fill=\"#000000\">class = yes</text>\n",
       "</g>\n",
       "<!-- 3&#45;&gt;5 -->\n",
       "<g id=\"edge5\" class=\"edge\">\n",
       "<title>3&#45;&gt;5</title>\n",
       "<path fill=\"none\" stroke=\"#000000\" d=\"M109.9582,-99.7647C117.3099,-90.7231 125.1383,-81.095 132.5167,-72.0204\"/>\n",
       "<polygon fill=\"#000000\" stroke=\"#000000\" points=\"135.2685,-74.1839 138.8616,-64.2169 129.8373,-69.7678 135.2685,-74.1839\"/>\n",
       "</g>\n",
       "<!-- 8 -->\n",
       "<g id=\"node9\" class=\"node\">\n",
       "<title>8</title>\n",
       "<path fill=\"#ffffff\" stroke=\"#000000\" d=\"M437.0811,-178C437.0811,-178 307.0322,-178 307.0322,-178 301.0322,-178 295.0322,-172 295.0322,-166 295.0322,-166 295.0322,-112 295.0322,-112 295.0322,-106 301.0322,-100 307.0322,-100 307.0322,-100 437.0811,-100 437.0811,-100 443.0811,-100 449.0811,-106 449.0811,-112 449.0811,-112 449.0811,-166 449.0811,-166 449.0811,-172 443.0811,-178 437.0811,-178\"/>\n",
       "<text text-anchor=\"start\" x=\"303.0444\" y=\"-162.8\" font-family=\"Helvetica,sans-Serif\" font-size=\"14.00\" fill=\"#000000\">income=medium ≤ 0.5</text>\n",
       "<text text-anchor=\"start\" x=\"331\" y=\"-148.8\" font-family=\"Helvetica,sans-Serif\" font-size=\"14.00\" fill=\"#000000\">entropy = 1.0</text>\n",
       "<text text-anchor=\"start\" x=\"334.1206\" y=\"-134.8\" font-family=\"Helvetica,sans-Serif\" font-size=\"14.00\" fill=\"#000000\">samples = 2</text>\n",
       "<text text-anchor=\"start\" x=\"331.7793\" y=\"-120.8\" font-family=\"Helvetica,sans-Serif\" font-size=\"14.00\" fill=\"#000000\">value = [1, 1]</text>\n",
       "<text text-anchor=\"start\" x=\"340.3447\" y=\"-106.8\" font-family=\"Helvetica,sans-Serif\" font-size=\"14.00\" fill=\"#000000\">class = no</text>\n",
       "</g>\n",
       "<!-- 7&#45;&gt;8 -->\n",
       "<g id=\"edge8\" class=\"edge\">\n",
       "<title>7&#45;&gt;8</title>\n",
       "<path fill=\"none\" stroke=\"#000000\" d=\"M373.3684,-213.7677C373.2254,-205.6172 373.0729,-196.9283 372.9244,-188.4649\"/>\n",
       "<polygon fill=\"#000000\" stroke=\"#000000\" points=\"376.4212,-188.2417 372.7462,-178.3046 369.4222,-188.3645 376.4212,-188.2417\"/>\n",
       "</g>\n",
       "<!-- 11 -->\n",
       "<g id=\"node12\" class=\"node\">\n",
       "<title>11</title>\n",
       "<path fill=\"#399de5\" stroke=\"#000000\" d=\"M553.17,-171C553.17,-171 478.9433,-171 478.9433,-171 472.9433,-171 466.9433,-165 466.9433,-159 466.9433,-159 466.9433,-119 466.9433,-119 466.9433,-113 472.9433,-107 478.9433,-107 478.9433,-107 553.17,-107 553.17,-107 559.17,-107 565.17,-113 565.17,-119 565.17,-119 565.17,-159 565.17,-159 565.17,-165 559.17,-171 553.17,-171\"/>\n",
       "<text text-anchor=\"start\" x=\"475\" y=\"-155.8\" font-family=\"Helvetica,sans-Serif\" font-size=\"14.00\" fill=\"#000000\">entropy = 0.0</text>\n",
       "<text text-anchor=\"start\" x=\"478.1206\" y=\"-141.8\" font-family=\"Helvetica,sans-Serif\" font-size=\"14.00\" fill=\"#000000\">samples = 3</text>\n",
       "<text text-anchor=\"start\" x=\"475.7793\" y=\"-127.8\" font-family=\"Helvetica,sans-Serif\" font-size=\"14.00\" fill=\"#000000\">value = [0, 3]</text>\n",
       "<text text-anchor=\"start\" x=\"481.2378\" y=\"-113.8\" font-family=\"Helvetica,sans-Serif\" font-size=\"14.00\" fill=\"#000000\">class = yes</text>\n",
       "</g>\n",
       "<!-- 7&#45;&gt;11 -->\n",
       "<g id=\"edge11\" class=\"edge\">\n",
       "<title>7&#45;&gt;11</title>\n",
       "<path fill=\"none\" stroke=\"#000000\" d=\"M422.925,-213.7677C437.5461,-202.0296 453.5585,-189.1745 468.1192,-177.485\"/>\n",
       "<polygon fill=\"#000000\" stroke=\"#000000\" points=\"470.4342,-180.1149 476.041,-171.1252 466.0519,-174.6563 470.4342,-180.1149\"/>\n",
       "</g>\n",
       "<!-- 9 -->\n",
       "<g id=\"node10\" class=\"node\">\n",
       "<title>9</title>\n",
       "<path fill=\"#e58139\" stroke=\"#000000\" d=\"M361.17,-64C361.17,-64 286.9433,-64 286.9433,-64 280.9433,-64 274.9433,-58 274.9433,-52 274.9433,-52 274.9433,-12 274.9433,-12 274.9433,-6 280.9433,0 286.9433,0 286.9433,0 361.17,0 361.17,0 367.17,0 373.17,-6 373.17,-12 373.17,-12 373.17,-52 373.17,-52 373.17,-58 367.17,-64 361.17,-64\"/>\n",
       "<text text-anchor=\"start\" x=\"283\" y=\"-48.8\" font-family=\"Helvetica,sans-Serif\" font-size=\"14.00\" fill=\"#000000\">entropy = 0.0</text>\n",
       "<text text-anchor=\"start\" x=\"286.1206\" y=\"-34.8\" font-family=\"Helvetica,sans-Serif\" font-size=\"14.00\" fill=\"#000000\">samples = 1</text>\n",
       "<text text-anchor=\"start\" x=\"283.7793\" y=\"-20.8\" font-family=\"Helvetica,sans-Serif\" font-size=\"14.00\" fill=\"#000000\">value = [1, 0]</text>\n",
       "<text text-anchor=\"start\" x=\"292.3447\" y=\"-6.8\" font-family=\"Helvetica,sans-Serif\" font-size=\"14.00\" fill=\"#000000\">class = no</text>\n",
       "</g>\n",
       "<!-- 8&#45;&gt;9 -->\n",
       "<g id=\"edge9\" class=\"edge\">\n",
       "<title>8&#45;&gt;9</title>\n",
       "<path fill=\"none\" stroke=\"#000000\" d=\"M354.4558,-99.7647C350.6045,-91.1797 346.5162,-82.066 342.6283,-73.3994\"/>\n",
       "<polygon fill=\"#000000\" stroke=\"#000000\" points=\"345.7955,-71.9083 338.5091,-64.2169 339.4087,-74.7735 345.7955,-71.9083\"/>\n",
       "</g>\n",
       "<!-- 10 -->\n",
       "<g id=\"node11\" class=\"node\">\n",
       "<title>10</title>\n",
       "<path fill=\"#399de5\" stroke=\"#000000\" d=\"M477.17,-64C477.17,-64 402.9433,-64 402.9433,-64 396.9433,-64 390.9433,-58 390.9433,-52 390.9433,-52 390.9433,-12 390.9433,-12 390.9433,-6 396.9433,0 402.9433,0 402.9433,0 477.17,0 477.17,0 483.17,0 489.17,-6 489.17,-12 489.17,-12 489.17,-52 489.17,-52 489.17,-58 483.17,-64 477.17,-64\"/>\n",
       "<text text-anchor=\"start\" x=\"399\" y=\"-48.8\" font-family=\"Helvetica,sans-Serif\" font-size=\"14.00\" fill=\"#000000\">entropy = 0.0</text>\n",
       "<text text-anchor=\"start\" x=\"402.1206\" y=\"-34.8\" font-family=\"Helvetica,sans-Serif\" font-size=\"14.00\" fill=\"#000000\">samples = 1</text>\n",
       "<text text-anchor=\"start\" x=\"399.7793\" y=\"-20.8\" font-family=\"Helvetica,sans-Serif\" font-size=\"14.00\" fill=\"#000000\">value = [0, 1]</text>\n",
       "<text text-anchor=\"start\" x=\"405.2378\" y=\"-6.8\" font-family=\"Helvetica,sans-Serif\" font-size=\"14.00\" fill=\"#000000\">class = yes</text>\n",
       "</g>\n",
       "<!-- 8&#45;&gt;10 -->\n",
       "<g id=\"edge10\" class=\"edge\">\n",
       "<title>8&#45;&gt;10</title>\n",
       "<path fill=\"none\" stroke=\"#000000\" d=\"M396.9912,-99.7647C402.5632,-90.9971 408.4856,-81.678 414.0979,-72.8469\"/>\n",
       "<polygon fill=\"#000000\" stroke=\"#000000\" points=\"417.1726,-74.534 419.5824,-64.2169 411.2647,-70.7795 417.1726,-74.534\"/>\n",
       "</g>\n",
       "</g>\n",
       "</svg>\n"
      ],
      "text/plain": [
       "<graphviz.files.Source at 0x1a1f8fc6d0>"
      ]
     },
     "execution_count": 19,
     "metadata": {},
     "output_type": "execute_result"
    }
   ],
   "source": [
    "graph"
   ]
  },
  {
   "cell_type": "code",
   "execution_count": null,
   "metadata": {},
   "outputs": [],
   "source": []
  }
 ],
 "metadata": {
  "kernelspec": {
   "display_name": "Python 3",
   "language": "python",
   "name": "python3"
  },
  "language_info": {
   "codemirror_mode": {
    "name": "ipython",
    "version": 3
   },
   "file_extension": ".py",
   "mimetype": "text/x-python",
   "name": "python",
   "nbconvert_exporter": "python",
   "pygments_lexer": "ipython3",
   "version": "3.7.7"
  }
 },
 "nbformat": 4,
 "nbformat_minor": 4
}
