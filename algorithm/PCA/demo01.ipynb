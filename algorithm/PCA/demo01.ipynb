{
 "cells": [
  {
   "cell_type": "code",
   "execution_count": 1,
   "metadata": {},
   "outputs": [],
   "source": [
    "#pca分析\n"
   ]
  },
  {
   "cell_type": "code",
   "execution_count": 2,
   "metadata": {},
   "outputs": [],
   "source": [
    "import numpy as np\n",
    "import matplotlib.pyplot as plt"
   ]
  },
  {
   "cell_type": "code",
   "execution_count": 3,
   "metadata": {},
   "outputs": [
    {
     "name": "stdout",
     "output_type": "stream",
     "text": [
      "(100,)\n"
     ]
    },
    {
     "data": {
      "image/png": "[encoded data removed]",
      "text/plain": [
       "<Figure size 432x288 with 1 Axes>"
      ]
     },
     "metadata": {
      "needs_background": "light"
     },
     "output_type": "display_data"
    }
   ],
   "source": [
    "data = np.genfromtxt('data.csv', delimiter = ',')\n",
    "x_data = data[:,0]\n",
    "y_data = data[:,1]\n",
    "plt.scatter(x_data,y_data)\n",
    "print(x_data.shape)"
   ]
  },
  {
   "cell_type": "code",
   "execution_count": 6,
   "metadata": {},
   "outputs": [],
   "source": [
    "def zeromean(dataMat):\n",
    "    meanVal = np.mean(dataMat, axis =0)\n",
    "    newData = dataMat - meanVal\n",
    "    return newData,meanVal\n",
    "    "
   ]
  },
  {
   "cell_type": "code",
   "execution_count": 9,
   "metadata": {},
   "outputs": [
    {
     "data": {
      "text/plain": [
       "array([[ 94.99190951, 125.62024804],\n",
       "       [125.62024804, 277.49520751]])"
      ]
     },
     "execution_count": 9,
     "metadata": {},
     "output_type": "execute_result"
    }
   ],
   "source": [
    "newData,meanVal = zeromean(data)\n",
    "covMat = np.cov(newData,rowvar = 0 )#说明数据一行代表一个样本\n",
    "covMat"
   ]
  },
  {
   "cell_type": "code",
   "execution_count": 13,
   "metadata": {},
   "outputs": [],
   "source": [
    "eigVals,eigVects = np.linalg.eig(np.mat(covMat))"
   ]
  },
  {
   "cell_type": "code",
   "execution_count": 16,
   "metadata": {},
   "outputs": [
    {
     "data": {
      "text/plain": [
       "array([0, 1])"
      ]
     },
     "execution_count": 16,
     "metadata": {},
     "output_type": "execute_result"
    }
   ],
   "source": [
    "#对特征值进行大小排序\n",
    "eigValIndice = np.argsort(eigVals)#下表排序\n",
    "eigValIndice\n"
   ]
  },
  {
   "cell_type": "code",
   "execution_count": 17,
   "metadata": {},
   "outputs": [],
   "source": [
    "top =1\n",
    "n_eigValIndice = eigValIndice[-1:-(top+1):-1]"
   ]
  },
  {
   "cell_type": "code",
   "execution_count": 18,
   "metadata": {},
   "outputs": [
    {
     "data": {
      "text/plain": [
       "matrix([[-0.45402951],\n",
       "        [-0.89098665]])"
      ]
     },
     "execution_count": 18,
     "metadata": {},
     "output_type": "execute_result"
    }
   ],
   "source": [
    "n_eigVect = eigVects[:,n_eigValIndice]\n",
    "n_eigVect"
   ]
  },
  {
   "cell_type": "code",
   "execution_count": 19,
   "metadata": {},
   "outputs": [
    {
     "data": {
      "text/plain": [
       "matrix([[ 44.02694787],\n",
       "        [  1.49722533],\n",
       "        [  3.35564513],\n",
       "        [  1.73205523],\n",
       "        [-17.84406034],\n",
       "        [ -7.68710859],\n",
       "        [ -7.6311404 ],\n",
       "        [ 16.4703207 ],\n",
       "        [ -1.92574891],\n",
       "        [ -0.35289859],\n",
       "        [ 17.26071108],\n",
       "        [-11.13030667],\n",
       "        [ 11.73358623],\n",
       "        [ -6.54975245],\n",
       "        [-11.27989566],\n",
       "        [ 10.70315359],\n",
       "        [ -7.11092921],\n",
       "        [-27.10646295],\n",
       "        [ 22.80011879],\n",
       "        [ 18.73367246],\n",
       "        [-17.75232043],\n",
       "        [-48.32951839],\n",
       "        [ 14.46601408],\n",
       "        [ 22.36856421],\n",
       "        [ -3.66790828],\n",
       "        [ -6.5367338 ],\n",
       "        [-24.03511973],\n",
       "        [-26.696945  ],\n",
       "        [ -4.62040617],\n",
       "        [-10.25663202],\n",
       "        [  6.87141913],\n",
       "        [ 33.98731832],\n",
       "        [ -0.49795028],\n",
       "        [-25.59431857],\n",
       "        [ -5.08219623],\n",
       "        [  7.07400117],\n",
       "        [-10.3589004 ],\n",
       "        [ 26.81843789],\n",
       "        [ 15.13930397],\n",
       "        [ 15.74751369],\n",
       "        [ 19.86509486],\n",
       "        [ 15.18178022],\n",
       "        [ -9.56831765],\n",
       "        [ 12.3873416 ],\n",
       "        [-44.24922602],\n",
       "        [ 31.5989945 ],\n",
       "        [ 20.60936247],\n",
       "        [-15.69205803],\n",
       "        [ 24.68142619],\n",
       "        [-25.71953206],\n",
       "        [ -1.70011545],\n",
       "        [  8.82426933],\n",
       "        [ 10.18596708],\n",
       "        [  9.92767378],\n",
       "        [ -1.59054221],\n",
       "        [ -1.35713786],\n",
       "        [ -2.23178334],\n",
       "        [-18.42859066],\n",
       "        [-10.81013855],\n",
       "        [ 15.48471562],\n",
       "        [ 13.37698622],\n",
       "        [  2.01510615],\n",
       "        [-13.45929748],\n",
       "        [ 11.60631421],\n",
       "        [  9.47911818],\n",
       "        [ 29.10215592],\n",
       "        [-14.62799906],\n",
       "        [-24.1314861 ],\n",
       "        [ -2.92304672],\n",
       "        [ 23.86122122],\n",
       "        [ 27.79335708],\n",
       "        [  5.96631636],\n",
       "        [  1.4680452 ],\n",
       "        [ 15.95209101],\n",
       "        [-37.79638897],\n",
       "        [-10.36346217],\n",
       "        [-20.58776205],\n",
       "        [ 21.05647364],\n",
       "        [ -9.181336  ],\n",
       "        [ 29.38968703],\n",
       "        [-10.26417212],\n",
       "        [-12.86474835],\n",
       "        [ 21.79735392],\n",
       "        [ -8.94685441],\n",
       "        [-27.45655642],\n",
       "        [ -8.10672783],\n",
       "        [  1.83592538],\n",
       "        [  2.27166878],\n",
       "        [  1.30641927],\n",
       "        [ 15.10178496],\n",
       "        [ 12.23038321],\n",
       "        [-13.67232328],\n",
       "        [-46.52044765],\n",
       "        [-14.2546318 ],\n",
       "        [-31.2297683 ],\n",
       "        [ -8.32905498],\n",
       "        [  0.42750425],\n",
       "        [-11.625534  ],\n",
       "        [  6.16748059],\n",
       "        [ 27.99826548]])"
      ]
     },
     "execution_count": 19,
     "metadata": {},
     "output_type": "execute_result"
    }
   ],
   "source": [
    "lowDdata = newData * n_eigVect\n",
    "lowDdata"
   ]
  },
  {
   "cell_type": "code",
   "execution_count": 21,
   "metadata": {},
   "outputs": [
    {
     "data": {
      "text/plain": [
       "<matplotlib.collections.PathCollection at 0x11ff1e250>"
      ]
     },
     "execution_count": 21,
     "metadata": {},
     "output_type": "execute_result"
    },
    {
     "data": {
      "image/png": "[encoded data removed]",
      "text/plain": [
       "<Figure size 432x288 with 1 Axes>"
      ]
     },
     "metadata": {
      "needs_background": "light"
     },
     "output_type": "display_data"
    }
   ],
   "source": [
    "#重构数据\n",
    "reconMat = (lowDdata* n_eigVect.T) + meanVal\n",
    "data = np.genfromtxt('data.csv', delimiter = ',')\n",
    "x_data = data[:,0]\n",
    "y_data = data[:,1]\n",
    "plt.scatter(x_data,y_data)\n",
    "\n",
    "x_data = np.array(reconMat)[:,0]\n",
    "y_data = np.array(reconMat)[:,1]\n",
    "plt.scatter(x_data,y_data,c='r')\n",
    "\n",
    "\n"
   ]
  },
  {
   "cell_type": "code",
   "execution_count": null,
   "metadata": {},
   "outputs": [],
   "source": []
  }
 ],
 "metadata": {
  "kernelspec": {
   "display_name": "Python 3",
   "language": "python",
   "name": "python3"
  },
  "language_info": {
   "codemirror_mode": {
    "name": "ipython",
    "version": 3
   },
   "file_extension": ".py",
   "mimetype": "text/x-python",
   "name": "python",
   "nbconvert_exporter": "python",
   "pygments_lexer": "ipython3",
   "version": "3.7.7"
  }
 },
 "nbformat": 4,
 "nbformat_minor": 4
}
