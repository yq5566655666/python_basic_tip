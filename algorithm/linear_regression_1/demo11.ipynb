{
 "cells": [
  {
   "cell_type": "code",
   "execution_count": 21,
   "metadata": {},
   "outputs": [],
   "source": [
    "import matplotlib.pyplot as plt\n",
    "import numpy as np\n",
    "from sklearn.metrics import classification_report#评估指标\n",
    "from sklearn import preprocessing #数据预处理标准化等\n",
    "\n",
    "scale = True"
   ]
  },
  {
   "cell_type": "code",
   "execution_count": 22,
   "metadata": {},
   "outputs": [
    {
     "data": {
      "image/png": "[encoded data removed]",
      "text/plain": [
       "<Figure size 432x288 with 1 Axes>"
      ]
     },
     "metadata": {
      "needs_background": "light"
     },
     "output_type": "display_data"
    }
   ],
   "source": [
    "#载入数据\n",
    "\n",
    "data = np.genfromtxt('LR-testSet.csv', delimiter = ',')\n",
    "\n",
    "x_data = data[:,:-1]\n",
    "y_data = data[:,-1]\n",
    "\n",
    "def plot():\n",
    "    x0 = []\n",
    "    x1 = []\n",
    "    y0 = []\n",
    "    y1 = []\n",
    "    for i in range(len(x_data)):\n",
    "        if y_data[i] == 0:\n",
    "            x0.append(x_data[i,0])\n",
    "            y0.append(x_data[i,1])\n",
    "        else:\n",
    "            x1.append(x_data[i,0])\n",
    "            y1.append(x_data[i,1])\n",
    "    scatter0 = plt.scatter(x0,y0,c= 'b', marker='o')\n",
    "    scattter1 = plt.scatter(x1, y1, c = 'r', marker = 'x')\n",
    "    plt.legend(handles = [scatter0, scattter1], labels = ['label0', 'label1'], loc= 'best')\n",
    "plot()\n",
    "plt.show()"
   ]
  },
  {
   "cell_type": "code",
   "execution_count": 23,
   "metadata": {},
   "outputs": [
    {
     "name": "stdout",
     "output_type": "stream",
     "text": [
      "(100, 2)\n",
      "(100, 1)\n",
      "(100, 3)\n"
     ]
    }
   ],
   "source": [
    "y_data = data[:,-1,np.newaxis]\n",
    "print(x_data.shape)\n",
    "print(y_data.shape)\n",
    "X_data = np.concatenate((np.ones((x_data.shape[0],1)),x_data),axis =1)\n",
    "print(X_data.shape)"
   ]
  },
  {
   "cell_type": "code",
   "execution_count": 24,
   "metadata": {},
   "outputs": [
    {
     "name": "stdout",
     "output_type": "stream",
     "text": [
      "(100, 3)\n"
     ]
    }
   ],
   "source": [
    "#定义sigmod函数\n",
    "#对位相乘  注意这里的含义，因为是两个数相乘累加\n",
    "def sigmoid(x):\n",
    "    return 1/(1 + np.exp(-x))\n",
    "a = sigmoid(X_data)\n",
    "print(a.shape)\n",
    "\n",
    "def cost(xMat, yMat, ws):\n",
    "    left = np.multiply(yMat, np.log(sigmoid(xMat * ws))) \n",
    "    right = np.multiply(1-yMat, np.log(1-sigmoid(xMat *ws)))\n",
    "    return np.sum(left + right)/ -(len(xMat))\n",
    "                      \n",
    "def gradAscent(xArr, yArr):\n",
    "    if scale == True:\n",
    "        xArr = preprocessing.scale(xArr)\n",
    "                      \n",
    "    xMat = np.mat(xArr)\n",
    "    yMat = np.mat(yArr)\n",
    "        \n",
    "    Ir = 0.001\n",
    "    epochs = 10000\n",
    "    costList = []#保存cost的值\n",
    "                      \n",
    "    m,n = np.shape(xMat)\n",
    "        #初始化权值\n",
    "    ws = np.mat(np.ones((n,1)))\n",
    "                      \n",
    "    for i in range(epochs + 1):\n",
    "        h = sigmoid(xMat*ws)\n",
    "                      \n",
    "        ws_grad = xMat.T * (h - yMat)/m #两个矩阵相乘累加\n",
    "        ws = ws - Ir * ws_grad\n",
    "\n",
    "        if i % 50 == 0:\n",
    "            costList.append(cost(xMat, yMat, ws))\n",
    "    return ws,costList\n",
    "#     else:\n",
    "#         return ('scale is false')\n",
    "            \n",
    "            \n",
    "        \n",
    "    "
   ]
  },
  {
   "cell_type": "code",
   "execution_count": 25,
   "metadata": {},
   "outputs": [
    {
     "name": "stdout",
     "output_type": "stream",
     "text": [
      "[[ 1.        ]\n",
      " [ 0.30816757]\n",
      " [-1.76171512]]\n"
     ]
    }
   ],
   "source": [
    "#训练模型\n",
    "\n",
    "ws, costList = gradAscent(X_data, y_data)\n",
    "print(ws)"
   ]
  },
  {
   "cell_type": "code",
   "execution_count": 26,
   "metadata": {},
   "outputs": [],
   "source": [
    "if scale == False:\n",
    "#画图决策边界\n",
    "\n",
    "    plot()\n",
    "    x_test = [[-4],[3]]\n",
    "    y_test = -(ws[0] +x_test * ws[1])/ws[2]\n",
    "    \n",
    "    plt.plot(x_test,y_test,'k')\n",
    "    plt.show()\n",
    "    "
   ]
  },
  {
   "cell_type": "code",
   "execution_count": 27,
   "metadata": {},
   "outputs": [
    {
     "data": {
      "image/png": "[encoded data removed]",
      "text/plain": [
       "<Figure size 432x288 with 1 Axes>"
      ]
     },
     "metadata": {
      "needs_background": "light"
     },
     "output_type": "display_data"
    }
   ],
   "source": [
    "#画loss值的变化\n",
    "\n",
    "x = np.linspace(0,10000,201)\n",
    "plt.plot(x,costList,c = 'r')\n",
    "plt.title('Train')\n",
    "plt.xlabel('Epochs')\n",
    "plt.ylabel('Cost')\n",
    "plt.show()"
   ]
  },
  {
   "cell_type": "code",
   "execution_count": 28,
   "metadata": {},
   "outputs": [
    {
     "name": "stdout",
     "output_type": "stream",
     "text": [
      "              precision    recall  f1-score   support\n",
      "\n",
      "         0.0       0.92      1.00      0.96        47\n",
      "         1.0       1.00      0.92      0.96        53\n",
      "\n",
      "    accuracy                           0.96       100\n",
      "   macro avg       0.96      0.96      0.96       100\n",
      "weighted avg       0.96      0.96      0.96       100\n",
      "\n"
     ]
    }
   ],
   "source": [
    "#预测\n",
    "def predict(x_data, ws):\n",
    "    if scale == True:\n",
    "        x_data = preprocessing.scale(x_data)\n",
    "    xMat = np.mat(x_data)\n",
    "    ws = np.mat(ws)\n",
    "    return [1 if x >=0.5 else 0 for x in sigmoid(xMat*ws)]\n",
    "\n",
    "predictions = predict(X_data, ws)\n",
    "print(classification_report(y_data,predictions))"
   ]
  },
  {
   "cell_type": "code",
   "execution_count": 10,
   "metadata": {},
   "outputs": [],
   "source": [
    "#数据标准化改变数据结构，同样的迭代次数提高了准确率，召回率，利于梯度下降法"
   ]
  },
  {
   "cell_type": "code",
   "execution_count": 22,
   "metadata": {},
   "outputs": [
    {
     "name": "stdout",
     "output_type": "stream",
     "text": [
      "[[ 1  3  5]\n",
      " [ 7  9 11]]\n",
      "[ 9 27]\n",
      "[ 5 11]\n",
      "[3. 9.]\n",
      "[[ 3  5]\n",
      " [ 9 11]]\n",
      "5\n"
     ]
    }
   ],
   "source": [
    "A_test = np.arange(1,13,2).reshape(2,3)\n",
    "print(A_test)\n",
    "print(np.sum(A_test, axis =1) )#行求值\n",
    "print(np.max(A_test,axis =1)) #行最大值\n",
    "print(np.average(A_test, axis =1))#行平均值\n",
    "print(np.delete(A_test, [i for i in range(1)],axis =1))#删掉一列\n",
    "print(A_test[0][2])"
   ]
  },
  {
   "cell_type": "code",
   "execution_count": null,
   "metadata": {},
   "outputs": [],
   "source": []
  },
  {
   "cell_type": "code",
   "execution_count": null,
   "metadata": {},
   "outputs": [],
   "source": []
  }
 ],
 "metadata": {
  "kernelspec": {
   "display_name": "Python 3",
   "language": "python",
   "name": "python3"
  },
  "language_info": {
   "codemirror_mode": {
    "name": "ipython",
    "version": 3
   },
   "file_extension": ".py",
   "mimetype": "text/x-python",
   "name": "python",
   "nbconvert_exporter": "python",
   "pygments_lexer": "ipython3",
   "version": "3.7.6"
  }
 },
 "nbformat": 4,
 "nbformat_minor": 4
}
