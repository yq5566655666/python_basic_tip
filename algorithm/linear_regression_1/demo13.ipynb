{
 "cells": [
  {
   "cell_type": "code",
   "execution_count": 1,
   "metadata": {},
   "outputs": [],
   "source": [
    "#梯度下降法 非线性逻辑回归\n",
    "import matplotlib.pyplot as plt\n",
    "import numpy as np\n",
    "from sklearn.metrics import classification_report\n",
    "from sklearn import preprocessing\n",
    "from sklearn import linear_model\n",
    "from sklearn.preprocessing import PolynomialFeatures\n",
    "scale = False"
   ]
  },
  {
   "cell_type": "code",
   "execution_count": 35,
   "metadata": {},
   "outputs": [
    {
     "data": {
      "image/png": "[encoded data removed]",
      "text/plain": [
       "<Figure size 432x288 with 1 Axes>"
      ]
     },
     "metadata": {
      "needs_background": "light"
     },
     "output_type": "display_data"
    }
   ],
   "source": [
    "#载入数据\n",
    "\n",
    "data = np.genfromtxt('LR-testSet2.txt', delimiter= ',')\n",
    "x_data = data[:,:-1]\n",
    "y_data = data[:, -1,np.newaxis]#注意在后面的运算当中一定要加偏置值\n",
    "def plot():\n",
    "    x0 = []\n",
    "    x1 = []\n",
    "    y0 = []\n",
    "    y1 = []\n",
    "    for i in range(len(x_data)):\n",
    "        if y_data[i] == 0:\n",
    "            x0.append(x_data[i,0])\n",
    "            y0.append(x_data[i,1])\n",
    "        else:\n",
    "            x1.append(x_data[i,0])\n",
    "            y1.append(x_data[i,1])\n",
    "    scatter0 = plt.scatter(x0,y0,c= 'b', marker='o')\n",
    "    scattter1 = plt.scatter(x1, y1, c = 'r', marker = 'x')\n",
    "    plt.legend(handles = [scatter0, scattter1], labels = ['label0', 'label1'], loc= 'best')\n",
    "#         plt.scatter(x_data[:,0], x_data[:,1], c=y_data)\n",
    "plot()"
   ]
  },
  {
   "cell_type": "code",
   "execution_count": 6,
   "metadata": {},
   "outputs": [],
   "source": [
    "#定义多项式回归\n",
    "\n",
    "poly_reg = PolynomialFeatures(degree=3)\n",
    "x_poly = poly_reg.fit_transform(x_data)\n"
   ]
  },
  {
   "cell_type": "code",
   "execution_count": 7,
   "metadata": {},
   "outputs": [],
   "source": [
    "#对位相乘  注意这里的含义，因为是两个数相乘累加\n",
    "def sigmoid(x):\n",
    "    return 1.0/(1 + np.exp(-x))\n",
    "\n",
    "def cost(xMat, yMat, ws):\n",
    "    left = np.multiply(yMat, np.log(sigmoid(xMat * ws))) \n",
    "    right = np.multiply(1-yMat, np.log(1-sigmoid(xMat *ws)))\n",
    "    return np.sum(left + right)/ -(len(xMat))\n",
    "                      \n",
    "def gradAscent(xArr, yArr):\n",
    "    if scale == True:\n",
    "        xArr = preprocessing.scale(xArr)\n",
    "                      \n",
    "    xMat = np.mat(xArr)\n",
    "    yMat = np.mat(yArr)\n",
    "        \n",
    "    Ir = 0.03\n",
    "    epochs = 50000\n",
    "    costList = []#保存cost的值\n",
    "                      \n",
    "    m,n = np.shape(xMat)\n",
    "        #初始化权值\n",
    "    ws = np.mat(np.ones((n,1)))\n",
    "                      \n",
    "    for i in range(epochs + 1):\n",
    "        h = sigmoid(xMat*ws)\n",
    "                      \n",
    "        ws_grad = xMat.T * (h - yMat)/m #两个矩阵相乘累加\n",
    "        ws = ws - Ir * ws_grad\n",
    "\n",
    "        if i % 50 == 0:\n",
    "            costList.append(cost(xMat, yMat, ws))\n",
    "    return ws,costList\n",
    "#     else:\n",
    "#         return ('scale is false')"
   ]
  },
  {
   "cell_type": "code",
   "execution_count": 8,
   "metadata": {},
   "outputs": [
    {
     "name": "stdout",
     "output_type": "stream",
     "text": [
      "[[ 4.16787292]\n",
      " [ 2.72213524]\n",
      " [ 4.55120018]\n",
      " [-9.76109006]\n",
      " [-5.34880198]\n",
      " [-8.51458023]\n",
      " [-0.55950401]\n",
      " [-1.55418165]\n",
      " [-0.75929829]\n",
      " [-2.88573877]]\n"
     ]
    }
   ],
   "source": [
    "ws,costList = gradAscent(x_poly, y_data)\n",
    "print(ws)"
   ]
  },
  {
   "cell_type": "code",
   "execution_count": 28,
   "metadata": {},
   "outputs": [
    {
     "name": "stdout",
     "output_type": "stream",
     "text": [
      "(38024, 1)\n"
     ]
    },
    {
     "data": {
      "image/png": "[encoded data removed]",
      "text/plain": [
       "<Figure size 432x288 with 1 Axes>"
      ]
     },
     "metadata": {
      "needs_background": "light"
     },
     "output_type": "display_data"
    }
   ],
   "source": [
    "#获取范围\n",
    "x_min, x_max =x_data[:, 0].min()-1, x_data[:, 0].max()+1\n",
    "y_min, y_max =x_data[:, 1].min()-1, x_data[:, 1].max()+1\n",
    "#生成网格矩阵\n",
    "xx,yy =np.meshgrid(np.arange(x_min, x_max, 0.02),\n",
    "                            np.arange(y_min,y_max,0.02))\n",
    "\n",
    "z =sigmoid(poly_reg.fit_transform(np.c_[xx.ravel(), yy.ravel()]).dot(np.array(ws)))\n",
    "for  i in range(len(z)):\n",
    "    if z[i] >0.5:\n",
    "        z[i] = 1\n",
    "    else:\n",
    "        z[i] = 0\n",
    "print(z.shape)\n",
    "z = z.reshape(xx.shape)\n",
    "\n",
    "cs =plt.contourf(xx,yy,z)\n",
    "plot()\n",
    "plt.show()"
   ]
  },
  {
   "cell_type": "code",
   "execution_count": 32,
   "metadata": {},
   "outputs": [
    {
     "name": "stdout",
     "output_type": "stream",
     "text": [
      "              precision    recall  f1-score   support\n",
      "\n",
      "         0.0       0.86      0.83      0.85        60\n",
      "         1.0       0.83      0.86      0.85        58\n",
      "\n",
      "    accuracy                           0.85       118\n",
      "   macro avg       0.85      0.85      0.85       118\n",
      "weighted avg       0.85      0.85      0.85       118\n",
      "\n"
     ]
    }
   ],
   "source": [
    "#预测\n",
    "def predict(x_data, ws):\n",
    "#     if scale == True:\n",
    "#         x_data = preprocessing.scale(x_data)\n",
    "    xMat = np.mat(x_data)\n",
    "    ws = np.mat(ws)\n",
    "    return [1 if x >=0.5 else 0 for x in sigmoid(xMat*ws)]\n",
    "\n",
    "predictions = predict(x_poly, ws)\n",
    "print(classification_report(y_data,predictions))"
   ]
  },
  {
   "cell_type": "code",
   "execution_count": null,
   "metadata": {},
   "outputs": [],
   "source": []
  },
  {
   "cell_type": "code",
   "execution_count": null,
   "metadata": {},
   "outputs": [],
   "source": []
  }
 ],
 "metadata": {
  "kernelspec": {
   "display_name": "Python 3",
   "language": "python",
   "name": "python3"
  },
  "language_info": {
   "codemirror_mode": {
    "name": "ipython",
    "version": 3
   },
   "file_extension": ".py",
   "mimetype": "text/x-python",
   "name": "python",
   "nbconvert_exporter": "python",
   "pygments_lexer": "ipython3",
   "version": "3.7.7"
  }
 },
 "nbformat": 4,
 "nbformat_minor": 4
}
