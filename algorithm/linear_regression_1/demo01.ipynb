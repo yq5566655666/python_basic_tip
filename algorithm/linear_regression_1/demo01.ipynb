{
 "cells": [
  {
   "cell_type": "code",
   "execution_count": null,
   "metadata": {},
   "outputs": [],
   "source": [
    "#一元线性回归\n",
    "import numpy as np\n",
    "import matplotlib.pyplot as plt\n"
   ]
  },
  {
   "cell_type": "code",
   "execution_count": null,
   "metadata": {},
   "outputs": [],
   "source": [
    "#载入数据\n",
    "data = np.genfromtxt('data.csv',delimiter=',')\n",
    "x_data = data[:,:-1]\n",
    "y_data = data[:,1]\n",
    "print(x_data)\n",
    "plt.scatter(x_data,y_data)\n",
    "plt.show()"
   ]
  },
  {
   "cell_type": "code",
   "execution_count": 1,
   "metadata": {},
   "outputs": [],
   "source": [
    "#学习率\n",
    "Ir = 0.0001\n",
    "#截距\n",
    "b=0\n",
    "#斜率\n",
    "k=0\n",
    "#最大迭代次数\n",
    "epochs = 50\n",
    "\n",
    "#最小二乘法\n",
    "\n",
    "def compute_error(b, k, x_data, y_data):\n",
    "    totalError = 0\n",
    "    for i in range(0,len(x_data)):\n",
    "        totalError +=  (y_data[i] - (k*x_data[i]+b))**2\n",
    "    return totalError / float(len(x_data))/2.0\n",
    "    \n",
    "def gradient_descent_runner(x_data, y_data, b, k, Ir, epochs):\n",
    "    #计算总量\n",
    "    m = float(len(x_data))\n",
    "    #循环epochs次数\n",
    "    for i in range(epochs):\n",
    "        b_grad = 0\n",
    "        k_grad = 0\n",
    "        #计算梯度的总和再求平均\n",
    "        for j in range(0,len(x_data)):\n",
    "            b_grad += -(1/m) * (y_data[j]-(k * x_data[j] + b))\n",
    "            k_grad += -(1/m) * (y_data[j]-(k * x_data[j] + b)) * x_data[j]\n",
    "            \n",
    "        #更新\n",
    "        b = b - (Ir * b_grad)\n",
    "        k = k - (Ir * k_grad)\n",
    "#         每迭代五次，输出一次图像\n",
    "        if i %5 == 0:\n",
    "            print(\"epochs\",i)\n",
    "            plt.plot(x_data, y_data, 'b.')\n",
    "            plt.plot(x_data, k*x_data + b, 'r')\n",
    "            plt.show()\n",
    "    return b,k"
   ]
  },
  {
   "cell_type": "code",
   "execution_count": null,
   "metadata": {},
   "outputs": [],
   "source": [
    "print (\"Starting b = {0}, k = {1}, error = {2}\".format(b, k, compute_error(b, k, x_data, y_data)))\n",
    "print (\"running......\")\n",
    "b,k = gradient_descent_runner(x_data,y_data,b, k, Ir, epochs)\n",
    "print ('After {0} iterations b = {1}, k ={2}, error ={3}'.format(epochs, b, k, compute_error(b, k, x_data, y_data)))\n",
    "      \n",
    "plt.plot(x_data, y_data, 'b.')\n",
    "plt.plot(x_data, k*x_data + b, 'r')\n",
    "plt.show()\n",
    "    "
   ]
  }
 ],
 "metadata": {
  "kernelspec": {
   "display_name": "Python 3",
   "language": "python",
   "name": "python3"
  },
  "language_info": {
   "codemirror_mode": {
    "name": "ipython",
    "version": 3
   },
   "file_extension": ".py",
   "mimetype": "text/x-python",
   "name": "python",
   "nbconvert_exporter": "python",
   "pygments_lexer": "ipython3",
   "version": "3.7.7"
  }
 },
 "nbformat": 4,
 "nbformat_minor": 4
}
