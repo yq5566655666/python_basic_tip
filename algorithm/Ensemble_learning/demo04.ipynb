{
 "cells": [
  {
   "cell_type": "code",
   "execution_count": 1,
   "metadata": {},
   "outputs": [],
   "source": [
    "#stacking算法\n",
    "from sklearn import datasets\n",
    "from sklearn import model_selection\n",
    "from sklearn.linear_model import LogisticRegression\n",
    "from sklearn.neighbors import KNeighborsClassifier\n",
    "from sklearn.tree import DecisionTreeClassifier\n",
    "from mlxtend.classifier import StackingClassifier\n",
    "from sklearn.ensemble import VotingClassifier\n",
    "import numpy as np"
   ]
  },
  {
   "cell_type": "code",
   "execution_count": 2,
   "metadata": {},
   "outputs": [],
   "source": [
    "#载入数据\n",
    "\n",
    "iris = datasets.load_iris()\n",
    "\n",
    "x_data,y_data = iris.data[:, 1:3], iris.target\n",
    "\n",
    "#定义三个不同的分类器\n",
    "clf1 = KNeighborsClassifier(n_neighbors=1)\n",
    "clf2 = DecisionTreeClassifier()\n",
    "clf3 = LogisticRegression()\n",
    "\n",
    "# sclf = VotingClassifier([('knn',clf1),('dtree',clf2),('lr',clf3)])\n",
    "# for clf,label in zip([clf1,clf2,clf3,sclf],['KNN',\"DT\",\"LR\",\"VC\"]):\n",
    "#     scores = model_selection.cross_val_score(clf,x_data,y_data,cv=3,scoring='accuracy')\n",
    "#     print('Accuracy: %0.2f [%s]'%(scores.mean(),label))\n",
    "\n",
    "# # #定义一个次级分类器\n",
    "\n",
    "# # lr = LogisticRegression()"
   ]
  },
  {
   "cell_type": "code",
   "execution_count": 3,
   "metadata": {},
   "outputs": [
    {
     "name": "stdout",
     "output_type": "stream",
     "text": [
      "Accuracy: 0.91 [KNN]\n",
      "Accuracy: 0.93 [DT]\n",
      "Accuracy: 0.95 [LR]\n",
      "Accuracy: 0.93 [SC]\n"
     ]
    }
   ],
   "source": [
    "#stacking做分类器\n",
    "\n",
    "#定义次级分类器\n",
    "\n",
    "lr = LogisticRegression()\n",
    "sclf = StackingClassifier(classifiers=[clf1,clf2,clf3], meta_classifier = lr)\n",
    "\n",
    "for clf,label in zip([clf1,clf2,clf3,sclf],['KNN',\"DT\",\"LR\",\"SC\"]):\n",
    "    scores = model_selection.cross_val_score(clf,x_data,y_data,cv=3,scoring='accuracy')\n",
    "    print('Accuracy: %0.2f [%s]'%(scores.mean(),label))\n",
    "\n",
    "# #定义一个次级分类器\n",
    "\n",
    "# lr = LogisticRegression()"
   ]
  },
  {
   "cell_type": "code",
   "execution_count": null,
   "metadata": {},
   "outputs": [],
   "source": []
  },
  {
   "cell_type": "code",
   "execution_count": null,
   "metadata": {},
   "outputs": [],
   "source": []
  }
 ],
 "metadata": {
  "kernelspec": {
   "display_name": "Python 3",
   "language": "python",
   "name": "python3"
  },
  "language_info": {
   "codemirror_mode": {
    "name": "ipython",
    "version": 3
   },
   "file_extension": ".py",
   "mimetype": "text/x-python",
   "name": "python",
   "nbconvert_exporter": "python",
   "pygments_lexer": "ipython3",
   "version": "3.7.6"
  }
 },
 "nbformat": 4,
 "nbformat_minor": 4
}
