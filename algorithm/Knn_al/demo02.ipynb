{
 "cells": [
  {
   "cell_type": "code",
   "execution_count": 1,
   "metadata": {},
   "outputs": [],
   "source": [
    "#knn算法鸢尾花\n",
    "#导入算法包以及数据集\n",
    "\n",
    "import numpy as np \n",
    "from sklearn import datasets\n",
    "from sklearn.model_selection import train_test_split\n",
    "from sklearn.metrics import classification_report, confusion_matrix\n",
    "import operator\n",
    "import random"
   ]
  },
  {
   "cell_type": "code",
   "execution_count": 2,
   "metadata": {},
   "outputs": [],
   "source": [
    "def knn(x_test, x_data, y_data, k):\n",
    "    x_data_size = x_data.shape[0]\n",
    "    #复制\n",
    "    np.tile(x_test, (x_data_size,1))\n",
    "    \n",
    "    diffMat = np.tile(x_test, (x_data_size, 1)) -x_data\n",
    "    \n",
    "    sqDiffMat = diffMat ** 2\n",
    "    sqDistance = sqDiffMat.sum(axis =1)\n",
    "    distance = sqDistance ** 0.5\n",
    "    \n",
    "    sortedDistance = distance.argsort()#sqDistance的索引排序\n",
    "    classCount = {}\n",
    "    for i in range(k):\n",
    "        votelabel = y_data[sortedDistance[i]]\n",
    "        classCount[votelabel] = classCount.get(votelabel,0) +1\n",
    "    sortedClassCount = sorted(classCount.items(), key= operator.itemgetter(1),reverse=True)\n",
    "    return sortedClassCount[0][0]"
   ]
  },
  {
   "cell_type": "code",
   "execution_count": 3,
   "metadata": {},
   "outputs": [
    {
     "name": "stdout",
     "output_type": "stream",
     "text": [
      "              precision    recall  f1-score   support\n",
      "\n",
      "           0       1.00      1.00      1.00        12\n",
      "           1       1.00      0.93      0.97        15\n",
      "           2       0.93      1.00      0.96        13\n",
      "\n",
      "    accuracy                           0.97        40\n",
      "   macro avg       0.98      0.98      0.98        40\n",
      "weighted avg       0.98      0.97      0.98        40\n",
      "\n"
     ]
    }
   ],
   "source": [
    "#载入数据\n",
    "iris = datasets.load_iris()\n",
    "#x_train,x_test,y_train,y_test = train_test_split(iris.data,iris.target,test_size = 0.2)\n",
    "data_size = iris.data.shape[0]\n",
    "index = [i for i in range(data_size)]   \n",
    "random.shuffle(index)#打乱\n",
    "iris.data = iris.data[index]\n",
    "iris.target = iris.target[index]\n",
    "                            \n",
    "                            \n",
    "#切分数据集\n",
    "test_size = 40\n",
    "x_train =  iris.data[test_size:]\n",
    "x_test = iris.data[:test_size]\n",
    "y_train = iris.target[test_size:]   \n",
    "y_test = iris.target[:test_size]\n",
    "                            \n",
    "predictions = []\n",
    "for i in range(x_test.shape[0]):\n",
    "    predictions.append(knn(x_test[i],x_train,y_train,5))\n",
    "print(classification_report(y_test,predictions))"
   ]
  },
  {
   "cell_type": "code",
   "execution_count": 4,
   "metadata": {},
   "outputs": [
    {
     "name": "stdout",
     "output_type": "stream",
     "text": [
      "[[12  0  0]\n",
      " [ 0 14  1]\n",
      " [ 0  0 13]]\n"
     ]
    }
   ],
   "source": [
    "print(confusion_matrix(y_test,predictions))#混淆矩阵"
   ]
  },
  {
   "cell_type": "code",
   "execution_count": null,
   "metadata": {},
   "outputs": [],
   "source": []
  }
 ],
 "metadata": {
  "kernelspec": {
   "display_name": "Python 3",
   "language": "python",
   "name": "python3"
  },
  "language_info": {
   "codemirror_mode": {
    "name": "ipython",
    "version": 3
   },
   "file_extension": ".py",
   "mimetype": "text/x-python",
   "name": "python",
   "nbconvert_exporter": "python",
   "pygments_lexer": "ipython3",
   "version": "3.7.6"
  }
 },
 "nbformat": 4,
 "nbformat_minor": 4
}
